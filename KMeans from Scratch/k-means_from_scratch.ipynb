{
 "cells": [
  {
   "cell_type": "markdown",
   "metadata": {},
   "source": [
    "# K-Means Clustering with Real World Dataset from scratch\n",
    "\n",
    "Data Description:\n",
    "\n",
    "- data.csv contains 10000 data samples, and each sample has 784 features.\n",
    "- label.csv contains the ground-truth labels of all data samples. There are 10 kinds of labels in the label.csv.\n"
   ]
  },
  {
   "cell_type": "code",
   "execution_count": 1,
   "metadata": {},
   "outputs": [],
   "source": [
    "import numpy as np\n",
    "import pandas as pd\n",
    "import matplotlib.pyplot as plt\n",
    "%matplotlib inline"
   ]
  },
  {
   "cell_type": "markdown",
   "metadata": {},
   "source": [
    "### K-means clustering algorithm from scratch"
   ]
  },
  {
   "cell_type": "code",
   "execution_count": 2,
   "metadata": {},
   "outputs": [],
   "source": [
    "from collections import Counter\n",
    "\n",
    "class K_Means():\n",
    "    \n",
    "    def __init__(self, k=3, dist=\"EUC\", max_iter=150, centroids=None, verbose=False, tol=0.001):\n",
    "        self.k = k\n",
    "        self.max_iter = max_iter\n",
    "        self.cluster_ids = np.arange(k, dtype=\"int\")\n",
    "        self.cluster_labels = np.zeros(self.k, dtype=\"int\")\n",
    "        self.centroids = centroids\n",
    "        self.sse = 0\n",
    "        self.verbose = verbose\n",
    "        self.tol = tol\n",
    "        \n",
    "        # select appropriate distance metrics\n",
    "        if dist in [\"EUC\", \"COS\", \"JAC\", \"MAN\"]:\n",
    "            if dist == \"EUC\":\n",
    "                self.dist = self._euclidean_distance\n",
    "            elif dist == \"COS\":\n",
    "                self.dist = self._cosine_distance\n",
    "            elif dist == \"MAN\":\n",
    "                self.dist = self._manhattan_distance\n",
    "            else:\n",
    "                self.dist = self._jaccard_distance\n",
    "        else:\n",
    "            raise ValueError(\"Invalid value for distance metrics...\")\n",
    "    \n",
    "    \n",
    "    def fit(self, X, Y=None):    \n",
    "        self.X = X\n",
    "        self.Y = Y\n",
    "        self.rows, self.columns = X.shape\n",
    "        np.random.seed(24)\n",
    "        \n",
    "        # Step 1: initialization\n",
    "        # randomly selecting k rows as k centroid points\n",
    "        # only if initial centeroids are not provided\n",
    "        if type(self.centroids)==type(None):\n",
    "            self.centroids = self.X[np.random.choice(self.rows, self.k, replace=False)]\n",
    "        self.clusters = np.zeros(self.rows, dtype=\"int\")\n",
    "        \n",
    "        # calculating initial sse\n",
    "        sse = 0\n",
    "        for cluster_id in self.cluster_ids:\n",
    "            cluster_point_indexes = np.where(self.clusters == cluster_id)\n",
    "            sse += np.sum((self.X[cluster_point_indexes] - self.centroids[cluster_id])**2)\n",
    "        self.sse = sse\n",
    "        \n",
    "        # Step 3: Stop Criteria\n",
    "        # 1. when maximum preset value of number of iterations is complete.\n",
    "        # 2. when centroids do not change      \n",
    "        # 3. when sse increases in next iteration\n",
    "        for iteration in range(1, self.max_iter+1):\n",
    "        #while True:\n",
    "            # Step 2: Repeat          \n",
    "            # 1. assign datpoints to k clusters based on the distance between \n",
    "            # the centeroids and the points\n",
    "            # traverse all rows in the dataset\n",
    "            for row_id in range(self.rows):\n",
    "                distances = [self.dist(X[row_id], self.centroids[cluster_id]) for cluster_id in self.cluster_ids]\n",
    "                min_dist_cluster_id = distances.index(min(distances))\n",
    "                if self.clusters[row_id]!=min_dist_cluster_id:\n",
    "                    self.clusters[row_id] = min_dist_cluster_id\n",
    "            #print(\"centriods:\", self.centroids)\n",
    "            \n",
    "            prev_centroids = np.copy(self.centroids)\n",
    "            # 2. compute the new centroids points\n",
    "            # average of all points in the cluster\n",
    "            for cluster_id in self.cluster_ids:\n",
    "                cluster_point_indexes = np.where(self.clusters == cluster_id)\n",
    "                if len(cluster_point_indexes[0])!=0:\n",
    "                    self.centroids[cluster_id] = np.average(self.X[cluster_point_indexes], axis=0)\n",
    "                \n",
    "                # compute cluster labels only if Y(original labels) are given\n",
    "                if type(self.Y)!=type(None):\n",
    "                    #print(\"cluster_point_indexes\", cluster_point_indexes)\n",
    "                    #print(cluster_point_indexes[0])\n",
    "                    # only if there are actual elements in the cluster\n",
    "                    if len(cluster_point_indexes[0])!=0:\n",
    "                        label_counts = Counter(self.Y[cluster_point_indexes])\n",
    "                        #print(label_counts)\n",
    "                        self.cluster_labels[cluster_id] = int(label_counts.most_common(1)[0][0])\n",
    "                    else:\n",
    "                        self.cluster_labels[cluster_id] = cluster_id\n",
    "                \n",
    "                # else assign cluster_ids as labels\n",
    "                else:\n",
    "                    self.cluster_labels[cluster_id] = self.cluster_ids[cluster_id]\n",
    "            #print(\"centriods:\", self.centroids)\n",
    "\n",
    "            # check for stopping condition\n",
    "            # 2. when centroids do not change      \n",
    "            change_in_centroid_postion = False\n",
    "            for c in range(self.k):\n",
    "                #print(self.dist(prev_centroids[c], self.centroids[c]))\n",
    "                if self.dist(prev_centroids[c], self.centroids[c]) > self.tol:\n",
    "                    change_in_centroid_postion = True\n",
    "                    \n",
    "            # check for stopping condition\n",
    "            # 3. when sse increases in next iteration\n",
    "            sse = 0\n",
    "            for cluster_id in self.cluster_ids:\n",
    "                cluster_point_indexes = np.where(self.clusters == cluster_id)\n",
    "                sse += np.sum((self.X[cluster_point_indexes] - self.centroids[cluster_id])**2)\n",
    "                \n",
    "            if self.verbose and iteration%10==0:\n",
    "                print(\"SSE {:.2f} for iteration {}.. \".format(sse, iteration))\n",
    "                print(\"Cluster labels: \", self.cluster_labels)\n",
    "                #print(\"Centeriods:\", self.centroids)\n",
    "            \n",
    "            # 2 and 3 breaking conditions\n",
    "            if not change_in_centroid_postion:\n",
    "                print(\"SSE {:.2f} for iteration {}.. \".format(sse, iteration))\n",
    "                print(\"Breaking.. Centroids do no change..\")\n",
    "                break\n",
    "                \n",
    "            if self.sse <= sse:\n",
    "                print(\"SSE {:.2f} for iteration {}.. \".format(sse, iteration+1))\n",
    "                print(\"Breaking.. SSE increased..\")\n",
    "                break\n",
    "                \n",
    "            self.sse = sse\n",
    "                        \n",
    "            \n",
    "    def predict(self, X_test):\n",
    "        # create a placeholder to store predictions\n",
    "        y_preds = np.zeros((X_test.shape[0], 1)) \n",
    "        # for every test example\n",
    "        for index in range(X_test.shape[0]):\n",
    "            # compute distances from each cluster centriod\n",
    "            distances = [self.dist(X_test[index], self.centroids[cluster_id]) for cluster_id in self.cluster_ids]\n",
    "            # index of minimum distance cluster as per algorithm\n",
    "            y_preds[index] = distances.index(min(distances))\n",
    "            # actual label of the cluster\n",
    "            y_preds[index] = self.cluster_labels[int(y_preds[index])]            \n",
    "        return y_preds\n",
    "    \n",
    "    \n",
    "    def _manhattan_distance(self, x, y):\n",
    "        return np.sum(np.abs(x - y))\n",
    "    \n",
    "    \n",
    "    def _euclidean_distance(self, x, y):\n",
    "        return np.sum(np.square(x-y))\n",
    "    \n",
    "    \n",
    "    def _cosine_distance(self, x, y):\n",
    "        return 1 - np.dot(x,y)/(np.linalg.norm(x)*np.linalg.norm(y))\n",
    "    \n",
    "    \n",
    "    def _jaccard_distance(self, x, y):\n",
    "        values = np.array([[x], [y]])\n",
    "        return 1 - np.sum(values.min(axis=0))/np.sum(values.max(axis=0))\n",
    "\n",
    "    "
   ]
  },
  {
   "cell_type": "markdown",
   "metadata": {},
   "source": [
    "**Sample testing**"
   ]
  },
  {
   "cell_type": "code",
   "execution_count": 3,
   "metadata": {},
   "outputs": [
    {
     "name": "stdout",
     "output_type": "stream",
     "text": [
      "SSE 2.33 for iteration 3.. \n",
      "Breaking.. Centroids do no change..\n"
     ]
    }
   ],
   "source": [
    "temp_x = np.array([[1,1], [3, 3], [1, 0], [0, 1], [4, 4]], dtype=\"float\")\n",
    "temp_y = np.array([1, 2, 1, 1, 2])\n",
    "test_model = K_Means(k=2, dist=\"JAC\", verbose=True)\n",
    "test_model.fit(temp_x, temp_y)"
   ]
  },
  {
   "cell_type": "code",
   "execution_count": 4,
   "metadata": {},
   "outputs": [
    {
     "data": {
      "text/plain": [
       "array([[1.],\n",
       "       [2.],\n",
       "       [1.],\n",
       "       [1.],\n",
       "       [2.]])"
      ]
     },
     "execution_count": 4,
     "metadata": {},
     "output_type": "execute_result"
    }
   ],
   "source": [
    "y_preds = test_model.predict(temp_x)\n",
    "y_preds"
   ]
  },
  {
   "cell_type": "code",
   "execution_count": 5,
   "metadata": {},
   "outputs": [
    {
     "data": {
      "text/plain": [
       "array([[3.5       , 3.5       ],\n",
       "       [0.66666667, 0.66666667]])"
      ]
     },
     "execution_count": 5,
     "metadata": {},
     "output_type": "execute_result"
    }
   ],
   "source": [
    "test_model.centroids"
   ]
  },
  {
   "cell_type": "markdown",
   "metadata": {},
   "source": [
    "# Task 1\n",
    "\n",
    "**Suppose we have 10 college football teams X1 to X10. We want to cluster them into 2\n",
    "groups. For each football team, we have two features: One is # wins in Season 2016, and the\n",
    "other is # wins in Season 2017.**"
   ]
  },
  {
   "cell_type": "code",
   "execution_count": 6,
   "metadata": {},
   "outputs": [],
   "source": [
    "teams = np.array([[3,5], [3,4], [2,8], [2,3], [6,2], [6,4], [7,3], [7,4], [8,5], [7,6]])"
   ]
  },
  {
   "cell_type": "code",
   "execution_count": 7,
   "metadata": {},
   "outputs": [
    {
     "data": {
      "image/png": "[encoded data removed]",
      "text/plain": [
       "<Figure size 432x288 with 1 Axes>"
      ]
     },
     "metadata": {
      "needs_background": "light"
     },
     "output_type": "display_data"
    }
   ],
   "source": [
    "plt.scatter(teams[:, 0], teams[:,1]);"
   ]
  },
  {
   "cell_type": "markdown",
   "metadata": {},
   "source": [
    "**Q.1) Initialize with two centroids, (4, 6) and (5, 4). Use Manhattan distance as the distance metric. First, perform one iteration of the K-means algorithm and report the coordinates of the\n",
    "resulting centroids. Second, please use K-Means to find two clusters.**"
   ]
  },
  {
   "cell_type": "code",
   "execution_count": 8,
   "metadata": {},
   "outputs": [
    {
     "name": "stdout",
     "output_type": "stream",
     "text": [
      "Centroids after 1 iteration: [4.   6.33],[5.57 3.57],\n",
      "SSE 54.10 for iteration 1.. \n",
      "Breaking.. Centroids do no change..\n",
      "Centroids after training: [4.   6.33],[5.57 3.57],"
     ]
    },
    {
     "data": {
      "image/png": "[encoded data removed]",
      "text/plain": [
       "<Figure size 720x360 with 2 Axes>"
      ]
     },
     "metadata": {
      "needs_background": "light"
     },
     "output_type": "display_data"
    }
   ],
   "source": [
    "# Part 1\n",
    "init_centroids = np.array([[4, 6], [5, 4]], dtype=\"float\")\n",
    "man_model = K_Means(k=2, max_iter=1, centroids=init_centroids, dist=\"MAN\")\n",
    "man_model.fit(teams)\n",
    "print(\"Centroids after 1 iteration: \", end=\"\")\n",
    "for centroid in man_model.centroids:\n",
    "    print(np.around(centroid, 2), end=\",\")\n",
    "print(\"\")\n",
    "f, (ax1, ax2) = plt.subplots(1, 2, sharey=True, figsize=(10,5))\n",
    "ax1.scatter(teams[:, 0], teams[:,1], color=\"b\");\n",
    "ax1.scatter(man_model.centroids[:,0], man_model.centroids[:,1], color=\"r\");\n",
    "ax1.set_title(\"After 1 iteration\");\n",
    "\n",
    "# part 2\n",
    "man_model = K_Means(k=2, centroids=init_centroids, dist=\"MAN\")\n",
    "man_model.fit(teams)\n",
    "print(\"Centroids after training: \", end=\"\")\n",
    "for centroid in man_model.centroids:\n",
    "    print(np.around(centroid, 2), end=\",\")\n",
    "\n",
    "# Plotting results\n",
    "colors = [\"b\", \"y\"]\n",
    "for index, cluster in enumerate(man_model.clusters):\n",
    "        ax2.scatter(teams[index, 0], teams[index,1], color=colors[int(cluster)%2]);\n",
    "ax2.scatter(man_model.centroids[:,0], man_model.centroids[:,1], color=\"r\");\n",
    "ax2.set_title(\"After entire training\");"
   ]
  },
  {
   "cell_type": "markdown",
   "metadata": {},
   "source": [
    "**Q.2) Initialize with two centroids, (4, 6) and (5, 4). Use Euclidean distance as the distance metric. First, perform one iteration of the K-means algorithm and report the coordinates of the\n",
    "resulting centroids. Second, please use K-Means to find two clusters.**"
   ]
  },
  {
   "cell_type": "code",
   "execution_count": 9,
   "metadata": {},
   "outputs": [
    {
     "name": "stdout",
     "output_type": "stream",
     "text": [
      "Centroids after 1 iteration: [2.5 6.5],[5.75 3.88],\n",
      "SSE 27.83 for iteration 2.. \n",
      "Breaking.. Centroids do no change..\n",
      "Centroids after training: [2.5 5. ],[6.83 4.  ],"
     ]
    },
    {
     "data": {
      "image/png": "[encoded data removed]",
      "text/plain": [
       "<Figure size 720x360 with 2 Axes>"
      ]
     },
     "metadata": {
      "needs_background": "light"
     },
     "output_type": "display_data"
    }
   ],
   "source": [
    "# Part 1\n",
    "init_centroids = np.array([[4, 6], [5, 4]], dtype=\"float\")\n",
    "euc_model = K_Means(k=2, max_iter=1, centroids=init_centroids, dist=\"EUC\")\n",
    "euc_model.fit(teams)\n",
    "print(\"Centroids after 1 iteration: \", end=\"\")\n",
    "for centroid in euc_model.centroids:\n",
    "    print(np.around(centroid, 2), end=\",\")\n",
    "print(\"\")\n",
    "f, (ax1, ax2) = plt.subplots(1, 2, sharey=True, figsize=(10,5))\n",
    "ax1.scatter(teams[:, 0], teams[:,1], color=\"b\");\n",
    "ax1.scatter(euc_model.centroids[:,0], euc_model.centroids[:,1], color=\"r\");\n",
    "ax1.set_title(\"After 1 iteration\");\n",
    "\n",
    "# part 2\n",
    "euc_model = K_Means(k=2, centroids=init_centroids, dist=\"EUC\")\n",
    "euc_model.fit(teams)\n",
    "print(\"Centroids after training: \", end=\"\")\n",
    "for centroid in euc_model.centroids:\n",
    "    print(np.around(centroid, 2), end=\",\")\n",
    "\n",
    "# Plotting results\n",
    "colors = [\"b\", \"y\"]\n",
    "for index, cluster in enumerate(euc_model.clusters):\n",
    "        ax2.scatter(teams[index, 0], teams[index,1], color=colors[int(cluster)%2]);\n",
    "ax2.scatter(euc_model.centroids[:,0], euc_model.centroids[:,1], color=\"r\");\n",
    "ax2.set_title(\"After entire training\");"
   ]
  },
  {
   "cell_type": "markdown",
   "metadata": {},
   "source": [
    "**Q.3) Initialize with two centroids, (3, 3) and (8, 3). Use Manhattan distance as the distance metric.First, perform one iteration of the K-means algorithm and report the coordinates of the\n",
    "resulting centroids. Second, please use K-Means to find two clusters.**"
   ]
  },
  {
   "cell_type": "code",
   "execution_count": 10,
   "metadata": {},
   "outputs": [
    {
     "name": "stdout",
     "output_type": "stream",
     "text": [
      "Centroids after 1 iteration: [2.5 5. ],[6.83 4.  ],\n",
      "SSE 27.83 for iteration 1.. \n",
      "Breaking.. Centroids do no change..\n",
      "Centroids after training: [2.5 5. ],[6.83 4.  ],"
     ]
    },
    {
     "data": {
      "image/png": "[encoded data removed]",
      "text/plain": [
       "<Figure size 720x360 with 2 Axes>"
      ]
     },
     "metadata": {
      "needs_background": "light"
     },
     "output_type": "display_data"
    }
   ],
   "source": [
    "# Part 1\n",
    "init_centroids = np.array([[3, 3], [8, 3]], dtype=\"float\")\n",
    "man_model = K_Means(k=2, max_iter=1, centroids=init_centroids, dist=\"MAN\")\n",
    "man_model.fit(teams)\n",
    "print(\"Centroids after 1 iteration: \", end=\"\")\n",
    "for centroid in man_model.centroids:\n",
    "    print(np.around(centroid, 2), end=\",\")\n",
    "print(\"\")\n",
    "f, (ax1, ax2) = plt.subplots(1, 2, sharey=True, figsize=(10,5))\n",
    "ax1.scatter(teams[:, 0], teams[:,1], color=\"b\");\n",
    "ax1.scatter(man_model.centroids[:,0], man_model.centroids[:,1], color=\"r\");\n",
    "ax1.set_title(\"After 1 iteration\");\n",
    "\n",
    "# part 2\n",
    "man_model = K_Means(k=2, centroids=init_centroids, dist=\"MAN\")\n",
    "man_model.fit(teams)\n",
    "print(\"Centroids after training: \", end=\"\")\n",
    "for centroid in man_model.centroids:\n",
    "    print(np.around(centroid, 2), end=\",\")\n",
    "\n",
    "# Plotting results\n",
    "colors = [\"b\", \"y\"]\n",
    "for index, cluster in enumerate(man_model.clusters):\n",
    "        ax2.scatter(teams[index, 0], teams[index,1], color=colors[int(cluster)%2]);\n",
    "ax2.scatter(man_model.centroids[:,0], man_model.centroids[:,1], color=\"r\");\n",
    "ax2.set_title(\"After entire training\");"
   ]
  },
  {
   "cell_type": "markdown",
   "metadata": {},
   "source": [
    "**Q.4) Initialize with two centroids, (3, 2) and (4, 8). Use Manhattan distance as the distance metric.First, perform one iteration of the K-means algorithm and report the coordinates of the\n",
    "resulting centroids. Second, please use K-Means to find two clusters.**"
   ]
  },
  {
   "cell_type": "code",
   "execution_count": 11,
   "metadata": {},
   "outputs": [
    {
     "name": "stdout",
     "output_type": "stream",
     "text": [
      "Centroids after 1 iteration: [4.86 3.57],[5.67 6.33],\n",
      "SSE 57.90 for iteration 1.. \n",
      "Breaking.. Centroids do no change..\n",
      "Centroids after training: [4.86 3.57],[5.67 6.33],"
     ]
    },
    {
     "data": {
      "image/png": "[encoded data removed]",
      "text/plain": [
       "<Figure size 720x360 with 2 Axes>"
      ]
     },
     "metadata": {
      "needs_background": "light"
     },
     "output_type": "display_data"
    }
   ],
   "source": [
    "# Part 1\n",
    "init_centroids = np.array([[3, 2], [4, 8]], dtype=float)\n",
    "man_model = K_Means(k=2, max_iter=1, centroids=init_centroids, dist=\"MAN\")\n",
    "man_model.fit(teams)\n",
    "print(\"Centroids after 1 iteration: \", end=\"\")\n",
    "for centroid in man_model.centroids:\n",
    "    print(np.around(centroid, 2), end=\",\")\n",
    "print(\"\")\n",
    "f, (ax1, ax2) = plt.subplots(1, 2, sharey=True, figsize=(10,5))\n",
    "ax1.scatter(teams[:, 0], teams[:,1], color=\"b\");\n",
    "ax1.scatter(man_model.centroids[:,0], man_model.centroids[:,1], color=\"r\");\n",
    "ax1.set_title(\"After 1 iteration\");\n",
    "\n",
    "# part 2\n",
    "man_model = K_Means(k=2, centroids=init_centroids, dist=\"MAN\")\n",
    "man_model.fit(teams)\n",
    "print(\"Centroids after training: \", end=\"\")\n",
    "for centroid in man_model.centroids:\n",
    "    print(np.around(centroid, 2), end=\",\")\n",
    "\n",
    "# Plotting results\n",
    "colors = [\"b\", \"y\"]\n",
    "for index, cluster in enumerate(man_model.clusters):\n",
    "        ax2.scatter(teams[index, 0], teams[index,1], color=colors[int(cluster)%2]);\n",
    "ax2.scatter(man_model.centroids[:,0], man_model.centroids[:,1], color=\"r\");\n",
    "ax2.set_title(\"After entire training\");"
   ]
  },
  {
   "cell_type": "markdown",
   "metadata": {},
   "source": [
    "# Task 2: K-Means Clustering with Real World Dataset\n",
    "**First, download a simulated dataset: hw4_kmeans_data.zip from Modules->Datsets. Then,\n",
    "implement the K-means algorithm from scratch. K-means algorithm computes the distance of a\n",
    "given data point pair. Replace the distance computation function with Euclidean distance, 1-\n",
    "Cosine similarity, and 1 – the Generalized Jarcard similarity (refer to:\n",
    "https://www.itl.nist.gov/div898/software/dataplot/refman2/auxillar/jaccard.htm).**"
   ]
  },
  {
   "cell_type": "code",
   "execution_count": 12,
   "metadata": {},
   "outputs": [],
   "source": [
    "# import dataset\n",
    "X = pd.read_csv(\"hw4_kmeans_data/data.csv\", header=None)\n",
    "Y = pd.read_csv(\"hw4_kmeans_data/label.csv\", header=None)"
   ]
  },
  {
   "cell_type": "code",
   "execution_count": 13,
   "metadata": {},
   "outputs": [
    {
     "data": {
      "text/html": [
       "<div>\n",
       "<style scoped>\n",
       "    .dataframe tbody tr th:only-of-type {\n",
       "        vertical-align: middle;\n",
       "    }\n",
       "\n",
       "    .dataframe tbody tr th {\n",
       "        vertical-align: top;\n",
       "    }\n",
       "\n",
       "    .dataframe thead th {\n",
       "        text-align: right;\n",
       "    }\n",
       "</style>\n",
       "<table border=\"1\" class=\"dataframe\">\n",
       "  <thead>\n",
       "    <tr style=\"text-align: right;\">\n",
       "      <th></th>\n",
       "      <th>0</th>\n",
       "      <th>1</th>\n",
       "      <th>2</th>\n",
       "      <th>3</th>\n",
       "      <th>4</th>\n",
       "      <th>5</th>\n",
       "      <th>6</th>\n",
       "      <th>7</th>\n",
       "      <th>8</th>\n",
       "      <th>9</th>\n",
       "      <th>...</th>\n",
       "      <th>774</th>\n",
       "      <th>775</th>\n",
       "      <th>776</th>\n",
       "      <th>777</th>\n",
       "      <th>778</th>\n",
       "      <th>779</th>\n",
       "      <th>780</th>\n",
       "      <th>781</th>\n",
       "      <th>782</th>\n",
       "      <th>783</th>\n",
       "    </tr>\n",
       "  </thead>\n",
       "  <tbody>\n",
       "    <tr>\n",
       "      <th>0</th>\n",
       "      <td>0</td>\n",
       "      <td>0</td>\n",
       "      <td>0</td>\n",
       "      <td>0</td>\n",
       "      <td>0</td>\n",
       "      <td>0</td>\n",
       "      <td>0</td>\n",
       "      <td>0</td>\n",
       "      <td>0</td>\n",
       "      <td>0</td>\n",
       "      <td>...</td>\n",
       "      <td>0</td>\n",
       "      <td>0</td>\n",
       "      <td>0</td>\n",
       "      <td>0</td>\n",
       "      <td>0</td>\n",
       "      <td>0</td>\n",
       "      <td>0</td>\n",
       "      <td>0</td>\n",
       "      <td>0</td>\n",
       "      <td>0</td>\n",
       "    </tr>\n",
       "    <tr>\n",
       "      <th>1</th>\n",
       "      <td>0</td>\n",
       "      <td>0</td>\n",
       "      <td>0</td>\n",
       "      <td>0</td>\n",
       "      <td>0</td>\n",
       "      <td>0</td>\n",
       "      <td>0</td>\n",
       "      <td>0</td>\n",
       "      <td>0</td>\n",
       "      <td>0</td>\n",
       "      <td>...</td>\n",
       "      <td>0</td>\n",
       "      <td>0</td>\n",
       "      <td>0</td>\n",
       "      <td>0</td>\n",
       "      <td>0</td>\n",
       "      <td>0</td>\n",
       "      <td>0</td>\n",
       "      <td>0</td>\n",
       "      <td>0</td>\n",
       "      <td>0</td>\n",
       "    </tr>\n",
       "    <tr>\n",
       "      <th>2</th>\n",
       "      <td>0</td>\n",
       "      <td>0</td>\n",
       "      <td>0</td>\n",
       "      <td>0</td>\n",
       "      <td>0</td>\n",
       "      <td>0</td>\n",
       "      <td>0</td>\n",
       "      <td>0</td>\n",
       "      <td>0</td>\n",
       "      <td>0</td>\n",
       "      <td>...</td>\n",
       "      <td>0</td>\n",
       "      <td>0</td>\n",
       "      <td>0</td>\n",
       "      <td>0</td>\n",
       "      <td>0</td>\n",
       "      <td>0</td>\n",
       "      <td>0</td>\n",
       "      <td>0</td>\n",
       "      <td>0</td>\n",
       "      <td>0</td>\n",
       "    </tr>\n",
       "    <tr>\n",
       "      <th>3</th>\n",
       "      <td>0</td>\n",
       "      <td>0</td>\n",
       "      <td>0</td>\n",
       "      <td>0</td>\n",
       "      <td>0</td>\n",
       "      <td>0</td>\n",
       "      <td>0</td>\n",
       "      <td>0</td>\n",
       "      <td>0</td>\n",
       "      <td>0</td>\n",
       "      <td>...</td>\n",
       "      <td>0</td>\n",
       "      <td>0</td>\n",
       "      <td>0</td>\n",
       "      <td>0</td>\n",
       "      <td>0</td>\n",
       "      <td>0</td>\n",
       "      <td>0</td>\n",
       "      <td>0</td>\n",
       "      <td>0</td>\n",
       "      <td>0</td>\n",
       "    </tr>\n",
       "    <tr>\n",
       "      <th>4</th>\n",
       "      <td>0</td>\n",
       "      <td>0</td>\n",
       "      <td>0</td>\n",
       "      <td>0</td>\n",
       "      <td>0</td>\n",
       "      <td>0</td>\n",
       "      <td>0</td>\n",
       "      <td>0</td>\n",
       "      <td>0</td>\n",
       "      <td>0</td>\n",
       "      <td>...</td>\n",
       "      <td>0</td>\n",
       "      <td>0</td>\n",
       "      <td>0</td>\n",
       "      <td>0</td>\n",
       "      <td>0</td>\n",
       "      <td>0</td>\n",
       "      <td>0</td>\n",
       "      <td>0</td>\n",
       "      <td>0</td>\n",
       "      <td>0</td>\n",
       "    </tr>\n",
       "  </tbody>\n",
       "</table>\n",
       "<p>5 rows × 784 columns</p>\n",
       "</div>"
      ],
      "text/plain": [
       "   0    1    2    3    4    5    6    7    8    9    ...  774  775  776  777  \\\n",
       "0    0    0    0    0    0    0    0    0    0    0  ...    0    0    0    0   \n",
       "1    0    0    0    0    0    0    0    0    0    0  ...    0    0    0    0   \n",
       "2    0    0    0    0    0    0    0    0    0    0  ...    0    0    0    0   \n",
       "3    0    0    0    0    0    0    0    0    0    0  ...    0    0    0    0   \n",
       "4    0    0    0    0    0    0    0    0    0    0  ...    0    0    0    0   \n",
       "\n",
       "   778  779  780  781  782  783  \n",
       "0    0    0    0    0    0    0  \n",
       "1    0    0    0    0    0    0  \n",
       "2    0    0    0    0    0    0  \n",
       "3    0    0    0    0    0    0  \n",
       "4    0    0    0    0    0    0  \n",
       "\n",
       "[5 rows x 784 columns]"
      ]
     },
     "execution_count": 13,
     "metadata": {},
     "output_type": "execute_result"
    }
   ],
   "source": [
    "X.head()"
   ]
  },
  {
   "cell_type": "code",
   "execution_count": 14,
   "metadata": {},
   "outputs": [
    {
     "data": {
      "text/html": [
       "<div>\n",
       "<style scoped>\n",
       "    .dataframe tbody tr th:only-of-type {\n",
       "        vertical-align: middle;\n",
       "    }\n",
       "\n",
       "    .dataframe tbody tr th {\n",
       "        vertical-align: top;\n",
       "    }\n",
       "\n",
       "    .dataframe thead th {\n",
       "        text-align: right;\n",
       "    }\n",
       "</style>\n",
       "<table border=\"1\" class=\"dataframe\">\n",
       "  <thead>\n",
       "    <tr style=\"text-align: right;\">\n",
       "      <th></th>\n",
       "      <th>0</th>\n",
       "    </tr>\n",
       "  </thead>\n",
       "  <tbody>\n",
       "    <tr>\n",
       "      <th>0</th>\n",
       "      <td>7</td>\n",
       "    </tr>\n",
       "    <tr>\n",
       "      <th>1</th>\n",
       "      <td>2</td>\n",
       "    </tr>\n",
       "    <tr>\n",
       "      <th>2</th>\n",
       "      <td>1</td>\n",
       "    </tr>\n",
       "    <tr>\n",
       "      <th>3</th>\n",
       "      <td>0</td>\n",
       "    </tr>\n",
       "    <tr>\n",
       "      <th>4</th>\n",
       "      <td>4</td>\n",
       "    </tr>\n",
       "  </tbody>\n",
       "</table>\n",
       "</div>"
      ],
      "text/plain": [
       "   0\n",
       "0  7\n",
       "1  2\n",
       "2  1\n",
       "3  0\n",
       "4  4"
      ]
     },
     "execution_count": 14,
     "metadata": {},
     "output_type": "execute_result"
    }
   ],
   "source": [
    "Y.head()"
   ]
  },
  {
   "cell_type": "code",
   "execution_count": 15,
   "metadata": {},
   "outputs": [
    {
     "name": "stdout",
     "output_type": "stream",
     "text": [
      "10\n"
     ]
    }
   ],
   "source": [
    "k_labels = len(Y[0].value_counts())\n",
    "print(k_labels)"
   ]
  },
  {
   "cell_type": "code",
   "execution_count": 16,
   "metadata": {},
   "outputs": [],
   "source": [
    "X = X.to_numpy(dtype=\"float\")\n",
    "Y = Y.to_numpy(dtype=\"float\").flatten()"
   ]
  },
  {
   "cell_type": "markdown",
   "metadata": {},
   "source": [
    "**Q1: Run K-means clustering with Euclidean, Cosine and Jarcard similarity. Specify K= the\n",
    "number of categorical values of y (the number of classifications). Compare the SSEs of\n",
    "Euclidean-K-means, Cosine-K-means, Jarcard-K-means. Which method is better?**"
   ]
  },
  {
   "cell_type": "code",
   "execution_count": 17,
   "metadata": {},
   "outputs": [
    {
     "name": "stdout",
     "output_type": "stream",
     "text": [
      "SSE 25787845756.54 for iteration 10.. \n",
      "Cluster labels:  [8 4 0 2 7 6 3 9 1 6]\n",
      "SSE 25340298141.49 for iteration 20.. \n",
      "Cluster labels:  [8 4 0 2 1 5 3 7 1 6]\n",
      "SSE 25324820133.66 for iteration 30.. \n",
      "Cluster labels:  [8 4 0 2 1 5 3 7 1 6]\n",
      "SSE 25323592000.27 for iteration 38.. \n",
      "Breaking.. Centroids do no change..\n",
      "Accuracy using Euclidean-K-means:  0.6018\n"
     ]
    }
   ],
   "source": [
    "euc_model = K_Means(k=k_labels, dist=\"EUC\", verbose=True)\n",
    "euc_model.fit(X, Y)\n",
    "\n",
    "from sklearn.metrics import accuracy_score\n",
    "y_preds = euc_model.predict(X)\n",
    "print(\"Accuracy using Euclidean-K-means: \", accuracy_score(Y, y_preds))"
   ]
  },
  {
   "cell_type": "code",
   "execution_count": 18,
   "metadata": {},
   "outputs": [
    {
     "name": "stdout",
     "output_type": "stream",
     "text": [
      "SSE 25881303781.29 for iteration 10.. \n",
      "Cluster labels:  [8 4 0 2 7 0 3 9 1 6]\n",
      "SSE 25733948794.69 for iteration 12.. \n",
      "Breaking.. Centroids do no change..\n",
      "Accuracy using Cosine-K-means:  0.6256\n"
     ]
    }
   ],
   "source": [
    "cos_model = K_Means(k=k_labels, dist=\"COS\", verbose=True)\n",
    "cos_model.fit(X, Y)\n",
    "\n",
    "from sklearn.metrics import accuracy_score\n",
    "y_preds = cos_model.predict(X)\n",
    "print(\"Accuracy using Cosine-K-means: \", accuracy_score(Y, y_preds))"
   ]
  },
  {
   "cell_type": "code",
   "execution_count": 19,
   "metadata": {},
   "outputs": [
    {
     "name": "stdout",
     "output_type": "stream",
     "text": [
      "SSE 25571284601.52 for iteration 10.. \n",
      "Cluster labels:  [8 4 0 2 1 5 3 7 1 6]\n",
      "SSE 25494050722.57 for iteration 20.. \n",
      "Cluster labels:  [8 4 0 2 1 5 3 7 1 6]\n",
      "SSE 25491483767.34 for iteration 24.. \n",
      "Breaking.. SSE increased..\n",
      "Accuracy using Jarcard-K-means:  0.6053\n"
     ]
    }
   ],
   "source": [
    "jac_model = K_Means(k=k_labels, dist=\"JAC\", verbose=True)\n",
    "jac_model.fit(X, Y)\n",
    "\n",
    "from sklearn.metrics import accuracy_score\n",
    "y_preds = jac_model.predict(X)\n",
    "print(\"Accuracy using Jarcard-K-means: \", accuracy_score(Y, y_preds))"
   ]
  },
  {
   "cell_type": "markdown",
   "metadata": {},
   "source": [
    "## Comparing different stopping conditions\n",
    "\n",
    "**1. No change in centroid position.**"
   ]
  },
  {
   "cell_type": "code",
   "execution_count": 20,
   "metadata": {},
   "outputs": [],
   "source": [
    "from collections import Counter\n",
    "\n",
    "class K_Means():\n",
    "    \n",
    "    def __init__(self, k=3, dist=\"EUC\", max_iter=150, centroids=None, verbose=False, tol=0.001):\n",
    "        self.k = k\n",
    "        self.max_iter = max_iter\n",
    "        self.cluster_ids = np.arange(k, dtype=\"int\")\n",
    "        self.cluster_labels = np.zeros(self.k, dtype=\"int\")\n",
    "        self.centroids = centroids\n",
    "        self.sse = 0\n",
    "        self.verbose = verbose\n",
    "        self.tol = tol\n",
    "        \n",
    "        # select appropriate distance metrics\n",
    "        if dist in [\"EUC\", \"COS\", \"JAC\", \"MAN\"]:\n",
    "            if dist == \"EUC\":\n",
    "                self.dist = self._euclidean_distance\n",
    "            elif dist == \"COS\":\n",
    "                self.dist = self._cosine_distance\n",
    "            elif dist == \"MAN\":\n",
    "                self.dist = self._manhattan_distance\n",
    "            else:\n",
    "                self.dist = self._jaccard_distance\n",
    "        else:\n",
    "            raise ValueError(\"Invalid value for distance metrics...\")\n",
    "    \n",
    "    \n",
    "    def fit(self, X, Y=None):    \n",
    "        self.X = X\n",
    "        self.Y = Y\n",
    "        self.rows, self.columns = X.shape\n",
    "        np.random.seed(24)\n",
    "        \n",
    "        # Step 1: initialization\n",
    "        # randomly selecting k rows as k centroid points\n",
    "        # only if initial centeroids are not provided\n",
    "        if type(self.centroids)==type(None):\n",
    "            self.centroids = self.X[np.random.choice(self.rows, self.k, replace=False)]\n",
    "        self.clusters = np.zeros(self.rows, dtype=\"int\")\n",
    "        \n",
    "        # calculating initial sse\n",
    "        sse = 0\n",
    "        for cluster_id in self.cluster_ids:\n",
    "            cluster_point_indexes = np.where(self.clusters == cluster_id)\n",
    "            sse += np.sum((self.X[cluster_point_indexes] - self.centroids[cluster_id])**2)\n",
    "        self.sse = sse\n",
    "        \n",
    "        # Step 3: Stop Criteria\n",
    "        # 1. when maximum preset value of number of iterations is complete.\n",
    "        # 2. when centroids do not change      \n",
    "        # 3. when sse increases in next iteration\n",
    "        #for iteration in range(1, self.max_iter+1):\n",
    "        iteration = 0\n",
    "        while True:\n",
    "            # Step 2: Repeat          \n",
    "            # 1. assign datpoints to k clusters based on the distance between \n",
    "            # the centeroids and the points\n",
    "            # traverse all rows in the dataset\n",
    "            for row_id in range(self.rows):\n",
    "                distances = [self.dist(X[row_id], self.centroids[cluster_id]) for cluster_id in self.cluster_ids]\n",
    "                min_dist_cluster_id = distances.index(min(distances))\n",
    "                if self.clusters[row_id]!=min_dist_cluster_id:\n",
    "                    self.clusters[row_id] = min_dist_cluster_id\n",
    "            #print(\"centriods:\", self.centroids)\n",
    "            \n",
    "            prev_centroids = np.copy(self.centroids)\n",
    "            # 2. compute the new centroids points\n",
    "            # average of all points in the cluster\n",
    "            for cluster_id in self.cluster_ids:\n",
    "                cluster_point_indexes = np.where(self.clusters == cluster_id)\n",
    "                if len(cluster_point_indexes[0])!=0:\n",
    "                    self.centroids[cluster_id] = np.average(self.X[cluster_point_indexes], axis=0)\n",
    "                \n",
    "                # compute cluster labels only if Y(original labels) are given\n",
    "                if type(self.Y)!=type(None):\n",
    "                    #print(\"cluster_point_indexes\", cluster_point_indexes)\n",
    "                    #print(cluster_point_indexes[0])\n",
    "                    # only if there are actual elements in the cluster\n",
    "                    if len(cluster_point_indexes[0])!=0:\n",
    "                        label_counts = Counter(self.Y[cluster_point_indexes])\n",
    "                        #print(label_counts)\n",
    "                        self.cluster_labels[cluster_id] = int(label_counts.most_common(1)[0][0])\n",
    "                    else:\n",
    "                        self.cluster_labels[cluster_id] = cluster_id\n",
    "                \n",
    "                # else assign cluster_ids as labels\n",
    "                else:\n",
    "                    self.cluster_labels[cluster_id] = self.cluster_ids[cluster_id]\n",
    "            #print(\"centriods:\", self.centroids)\n",
    "\n",
    "            # check for stopping condition\n",
    "            # 2. when centroids do not change      \n",
    "            change_in_centroid_postion = False\n",
    "            for c in range(self.k):\n",
    "                #print(self.dist(prev_centroids[c], self.centroids[c]))\n",
    "                if self.dist(prev_centroids[c], self.centroids[c]) > self.tol:\n",
    "                    change_in_centroid_postion = True\n",
    "                    \n",
    "            # check for stopping condition\n",
    "            # 3. when sse increases in next iteration\n",
    "            sse = 0\n",
    "            for cluster_id in self.cluster_ids:\n",
    "                cluster_point_indexes = np.where(self.clusters == cluster_id)\n",
    "                sse += np.sum((self.X[cluster_point_indexes] - self.centroids[cluster_id])**2)\n",
    "                \n",
    "            if self.verbose and iteration%10==0:\n",
    "                print(\"SSE {:.2f} for iteration {}.. \".format(sse, iteration))\n",
    "                print(\"Cluster labels: \", self.cluster_labels)\n",
    "                #print(\"Centeriods:\", self.centroids)\n",
    "            \n",
    "            # 2 and 3 breaking conditions\n",
    "            if not change_in_centroid_postion:\n",
    "                print(\"SSE {:.2f} for iteration {}.. \".format(sse, iteration))\n",
    "                print(\"Breaking.. Centroids do no change..\")\n",
    "                break\n",
    "                \n",
    "#             if self.sse <= sse:\n",
    "#                 print(\"SSE {:.2f} for iteration {}.. \".format(sse, iteration+1))\n",
    "#                 print(\"Breaking.. SSE increased..\")\n",
    "#                 break\n",
    "                \n",
    "            self.sse = sse\n",
    "            iteration += 1\n",
    "                        \n",
    "            \n",
    "    def predict(self, X_test):\n",
    "        # create a placeholder to store predictions\n",
    "        y_preds = np.zeros((X_test.shape[0], 1)) \n",
    "        # for every test example\n",
    "        for index in range(X_test.shape[0]):\n",
    "            # compute distances from each cluster centriod\n",
    "            distances = [self.dist(X_test[index], self.centroids[cluster_id]) for cluster_id in self.cluster_ids]\n",
    "            # index of minimum distance cluster as per algorithm\n",
    "            y_preds[index] = distances.index(min(distances))\n",
    "            # actual label of the cluster\n",
    "            y_preds[index] = self.cluster_labels[int(y_preds[index])]            \n",
    "        return y_preds\n",
    "    \n",
    "    \n",
    "    def _manhattan_distance(self, x, y):\n",
    "        return np.sum(np.abs(x - y))\n",
    "    \n",
    "    \n",
    "    def _euclidean_distance(self, x, y):\n",
    "        return np.sum(np.square(x-y))\n",
    "    \n",
    "    \n",
    "    def _cosine_distance(self, x, y):\n",
    "        return 1 - np.dot(x,y)/(np.linalg.norm(x)*np.linalg.norm(y))\n",
    "    \n",
    "    \n",
    "    def _jaccard_distance(self, x, y):\n",
    "        values = np.array([[x], [y]])\n",
    "        return 1 - np.sum(values.min(axis=0))/np.sum(values.max(axis=0))\n",
    "          "
   ]
  },
  {
   "cell_type": "code",
   "execution_count": 21,
   "metadata": {},
   "outputs": [
    {
     "name": "stdout",
     "output_type": "stream",
     "text": [
      "SSE 28113342462.79 for iteration 0.. \n",
      "Cluster labels:  [3 9 0 2 7 0 3 4 1 6]\n",
      "SSE 25739145569.24 for iteration 10.. \n",
      "Cluster labels:  [8 4 0 2 7 6 3 9 1 6]\n",
      "SSE 25336469480.16 for iteration 20.. \n",
      "Cluster labels:  [8 4 0 2 1 5 3 7 1 6]\n",
      "SSE 25324534025.24 for iteration 30.. \n",
      "Cluster labels:  [8 4 0 2 1 5 3 7 1 6]\n",
      "SSE 25323592000.27 for iteration 37.. \n",
      "Breaking.. Centroids do no change..\n",
      "Accuracy using Euclidean-K-means:  0.6018\n"
     ]
    }
   ],
   "source": [
    "euc_model = K_Means(k=k_labels, dist=\"EUC\", verbose=True)\n",
    "euc_model.fit(X, Y)\n",
    "\n",
    "from sklearn.metrics import accuracy_score\n",
    "y_preds = euc_model.predict(X)\n",
    "print(\"Accuracy using Euclidean-K-means: \", accuracy_score(Y, y_preds))"
   ]
  },
  {
   "cell_type": "code",
   "execution_count": 22,
   "metadata": {},
   "outputs": [
    {
     "name": "stdout",
     "output_type": "stream",
     "text": [
      "SSE 28390838327.24 for iteration 0.. \n",
      "Cluster labels:  [5 4 0 2 7 0 3 9 1 6]\n",
      "SSE 25782791814.50 for iteration 10.. \n",
      "Cluster labels:  [8 4 0 2 7 5 3 9 1 6]\n",
      "SSE 25733948794.69 for iteration 11.. \n",
      "Breaking.. Centroids do no change..\n",
      "Accuracy using Cosine-K-means:  0.6256\n"
     ]
    }
   ],
   "source": [
    "cos_model = K_Means(k=k_labels, dist=\"COS\", verbose=True)\n",
    "cos_model.fit(X, Y)\n",
    "\n",
    "from sklearn.metrics import accuracy_score\n",
    "y_preds = cos_model.predict(X)\n",
    "print(\"Accuracy using Cosine-K-means: \", accuracy_score(Y, y_preds))"
   ]
  },
  {
   "cell_type": "code",
   "execution_count": 23,
   "metadata": {},
   "outputs": [
    {
     "name": "stdout",
     "output_type": "stream",
     "text": [
      "SSE 28383889095.75 for iteration 0.. \n",
      "Cluster labels:  [5 4 0 2 7 0 3 9 1 6]\n",
      "SSE 25549755909.41 for iteration 10.. \n",
      "Cluster labels:  [8 4 0 2 1 5 3 7 1 6]\n",
      "SSE 25492983956.44 for iteration 20.. \n",
      "Cluster labels:  [8 4 0 2 1 5 3 7 1 6]\n",
      "SSE 25490704218.61 for iteration 30.. \n",
      "Cluster labels:  [8 4 0 2 1 5 3 7 1 6]\n",
      "SSE 25490660405.52 for iteration 35.. \n",
      "Breaking.. Centroids do no change..\n",
      "Accuracy using Jarcard-K-means:  0.607\n"
     ]
    }
   ],
   "source": [
    "jac_model = K_Means(k=k_labels, dist=\"JAC\", verbose=True)\n",
    "jac_model.fit(X, Y)\n",
    "\n",
    "from sklearn.metrics import accuracy_score\n",
    "y_preds = jac_model.predict(X)\n",
    "print(\"Accuracy using Jarcard-K-means: \", accuracy_score(Y, y_preds))"
   ]
  },
  {
   "cell_type": "markdown",
   "metadata": {},
   "source": [
    "**2. SSE value increases in next iteration**"
   ]
  },
  {
   "cell_type": "code",
   "execution_count": 24,
   "metadata": {},
   "outputs": [],
   "source": [
    "from collections import Counter\n",
    "\n",
    "class K_Means():\n",
    "    \n",
    "    def __init__(self, k=3, dist=\"EUC\", max_iter=150, centroids=None, verbose=False, tol=0.001):\n",
    "        self.k = k\n",
    "        self.max_iter = max_iter\n",
    "        self.cluster_ids = np.arange(k, dtype=\"int\")\n",
    "        self.cluster_labels = np.zeros(self.k, dtype=\"int\")\n",
    "        self.centroids = centroids\n",
    "        self.sse = 0\n",
    "        self.verbose = verbose\n",
    "        self.tol = tol\n",
    "        \n",
    "        # select appropriate distance metrics\n",
    "        if dist in [\"EUC\", \"COS\", \"JAC\", \"MAN\"]:\n",
    "            if dist == \"EUC\":\n",
    "                self.dist = self._euclidean_distance\n",
    "            elif dist == \"COS\":\n",
    "                self.dist = self._cosine_distance\n",
    "            elif dist == \"MAN\":\n",
    "                self.dist = self._manhattan_distance\n",
    "            else:\n",
    "                self.dist = self._jaccard_distance\n",
    "        else:\n",
    "            raise ValueError(\"Invalid value for distance metrics...\")\n",
    "    \n",
    "    \n",
    "    def fit(self, X, Y=None):    \n",
    "        self.X = X\n",
    "        self.Y = Y\n",
    "        self.rows, self.columns = X.shape\n",
    "        np.random.seed(24)\n",
    "        \n",
    "        # Step 1: initialization\n",
    "        # randomly selecting k rows as k centroid points\n",
    "        # only if initial centeroids are not provided\n",
    "        if type(self.centroids)==type(None):\n",
    "            self.centroids = self.X[np.random.choice(self.rows, self.k, replace=False)]\n",
    "        self.clusters = np.zeros(self.rows, dtype=\"int\")\n",
    "        \n",
    "        # calculating initial sse\n",
    "        sse = 0\n",
    "        for cluster_id in self.cluster_ids:\n",
    "            cluster_point_indexes = np.where(self.clusters == cluster_id)\n",
    "            sse += np.sum((self.X[cluster_point_indexes] - self.centroids[cluster_id])**2)\n",
    "        self.sse = sse\n",
    "        \n",
    "        # Step 3: Stop Criteria\n",
    "        # 1. when maximum preset value of number of iterations is complete.\n",
    "        # 2. when centroids do not change      \n",
    "        # 3. when sse increases in next iteration\n",
    "        #for iteration in range(1, self.max_iter+1):\n",
    "        iteration = 0\n",
    "        while True:\n",
    "            # Step 2: Repeat          \n",
    "            # 1. assign datpoints to k clusters based on the distance between \n",
    "            # the centeroids and the points\n",
    "            # traverse all rows in the dataset\n",
    "            for row_id in range(self.rows):\n",
    "                distances = [self.dist(X[row_id], self.centroids[cluster_id]) for cluster_id in self.cluster_ids]\n",
    "                min_dist_cluster_id = distances.index(min(distances))\n",
    "                if self.clusters[row_id]!=min_dist_cluster_id:\n",
    "                    self.clusters[row_id] = min_dist_cluster_id\n",
    "            #print(\"centriods:\", self.centroids)\n",
    "            \n",
    "            prev_centroids = np.copy(self.centroids)\n",
    "            # 2. compute the new centroids points\n",
    "            # average of all points in the cluster\n",
    "            for cluster_id in self.cluster_ids:\n",
    "                cluster_point_indexes = np.where(self.clusters == cluster_id)\n",
    "                if len(cluster_point_indexes[0])!=0:\n",
    "                    self.centroids[cluster_id] = np.average(self.X[cluster_point_indexes], axis=0)\n",
    "                \n",
    "                # compute cluster labels only if Y(original labels) are given\n",
    "                if type(self.Y)!=type(None):\n",
    "                    #print(\"cluster_point_indexes\", cluster_point_indexes)\n",
    "                    #print(cluster_point_indexes[0])\n",
    "                    # only if there are actual elements in the cluster\n",
    "                    if len(cluster_point_indexes[0])!=0:\n",
    "                        label_counts = Counter(self.Y[cluster_point_indexes])\n",
    "                        #print(label_counts)\n",
    "                        self.cluster_labels[cluster_id] = int(label_counts.most_common(1)[0][0])\n",
    "                    else:\n",
    "                        self.cluster_labels[cluster_id] = cluster_id\n",
    "                \n",
    "                # else assign cluster_ids as labels\n",
    "                else:\n",
    "                    self.cluster_labels[cluster_id] = self.cluster_ids[cluster_id]\n",
    "            #print(\"centriods:\", self.centroids)\n",
    "\n",
    "            # check for stopping condition\n",
    "            # 2. when centroids do not change      \n",
    "            change_in_centroid_postion = False\n",
    "            for c in range(self.k):\n",
    "                #print(self.dist(prev_centroids[c], self.centroids[c]))\n",
    "                if self.dist(prev_centroids[c], self.centroids[c]) > self.tol:\n",
    "                    change_in_centroid_postion = True\n",
    "                    \n",
    "            # check for stopping condition\n",
    "            # 3. when sse increases in next iteration\n",
    "            sse = 0\n",
    "            for cluster_id in self.cluster_ids:\n",
    "                cluster_point_indexes = np.where(self.clusters == cluster_id)\n",
    "                sse += np.sum((self.X[cluster_point_indexes] - self.centroids[cluster_id])**2)\n",
    "                \n",
    "            if self.verbose and iteration%10==0:\n",
    "                print(\"SSE {:.2f} for iteration {}.. \".format(sse, iteration))\n",
    "                print(\"Cluster labels: \", self.cluster_labels)\n",
    "                #print(\"Centeriods:\", self.centroids)\n",
    "            \n",
    "            # 2 and 3 breaking conditions\n",
    "#             if not change_in_centroid_postion:\n",
    "#                 print(\"SSE {:.2f} for iteration {}.. \".format(sse, iteration))\n",
    "#                 print(\"Breaking.. Centroids do no change..\")\n",
    "#                 break\n",
    "                \n",
    "            if self.sse <= sse:\n",
    "                print(\"SSE {:.2f} for iteration {}.. \".format(sse, iteration+1))\n",
    "                print(\"Breaking.. SSE increased..\")\n",
    "                break\n",
    "                \n",
    "            self.sse = sse\n",
    "            iteration += 1\n",
    "                        \n",
    "            \n",
    "    def predict(self, X_test):\n",
    "        # create a placeholder to store predictions\n",
    "        y_preds = np.zeros((X_test.shape[0], 1)) \n",
    "        # for every test example\n",
    "        for index in range(X_test.shape[0]):\n",
    "            # compute distances from each cluster centriod\n",
    "            distances = [self.dist(X_test[index], self.centroids[cluster_id]) for cluster_id in self.cluster_ids]\n",
    "            # index of minimum distance cluster as per algorithm\n",
    "            y_preds[index] = distances.index(min(distances))\n",
    "            # actual label of the cluster\n",
    "            y_preds[index] = self.cluster_labels[int(y_preds[index])]            \n",
    "        return y_preds\n",
    "    \n",
    "    \n",
    "    def _manhattan_distance(self, x, y):\n",
    "        return np.sum(np.abs(x - y))\n",
    "    \n",
    "    \n",
    "    def _euclidean_distance(self, x, y):\n",
    "        return np.sum(np.square(x-y))\n",
    "    \n",
    "    \n",
    "    def _cosine_distance(self, x, y):\n",
    "        return 1 - np.dot(x,y)/(np.linalg.norm(x)*np.linalg.norm(y))\n",
    "    \n",
    "    \n",
    "    def _jaccard_distance(self, x, y):\n",
    "        values = np.array([[x], [y]])\n",
    "        return 1 - np.sum(values.min(axis=0))/np.sum(values.max(axis=0))     \n",
    "    "
   ]
  },
  {
   "cell_type": "code",
   "execution_count": 25,
   "metadata": {},
   "outputs": [
    {
     "name": "stdout",
     "output_type": "stream",
     "text": [
      "SSE 28113342462.79 for iteration 0.. \n",
      "Cluster labels:  [3 9 0 2 7 0 3 4 1 6]\n",
      "SSE 25739145569.24 for iteration 10.. \n",
      "Cluster labels:  [8 4 0 2 7 6 3 9 1 6]\n",
      "SSE 25336469480.16 for iteration 20.. \n",
      "Cluster labels:  [8 4 0 2 1 5 3 7 1 6]\n",
      "SSE 25324534025.24 for iteration 30.. \n",
      "Cluster labels:  [8 4 0 2 1 5 3 7 1 6]\n",
      "SSE 25323592000.27 for iteration 38.. \n",
      "Breaking.. SSE increased..\n",
      "Accuracy using Euclidean-K-means:  0.6018\n"
     ]
    }
   ],
   "source": [
    "euc_model = K_Means(k=k_labels, dist=\"EUC\", verbose=True)\n",
    "euc_model.fit(X, Y)\n",
    "\n",
    "from sklearn.metrics import accuracy_score\n",
    "y_preds = euc_model.predict(X)\n",
    "print(\"Accuracy using Euclidean-K-means: \", accuracy_score(Y, y_preds))"
   ]
  },
  {
   "cell_type": "code",
   "execution_count": 26,
   "metadata": {},
   "outputs": [
    {
     "name": "stdout",
     "output_type": "stream",
     "text": [
      "SSE 28390838327.24 for iteration 0.. \n",
      "Cluster labels:  [5 4 0 2 7 0 3 9 1 6]\n",
      "SSE 25782791814.50 for iteration 10.. \n",
      "Cluster labels:  [8 4 0 2 7 5 3 9 1 6]\n",
      "SSE 25593683225.11 for iteration 20.. \n",
      "Cluster labels:  [8 4 0 2 7 5 3 9 1 6]\n",
      "SSE 25571023833.66 for iteration 30.. \n",
      "Breaking.. SSE increased..\n",
      "Accuracy using Cosine-K-means:  0.6117\n"
     ]
    }
   ],
   "source": [
    "cos_model = K_Means(k=k_labels, dist=\"COS\", verbose=True)\n",
    "cos_model.fit(X, Y)\n",
    "\n",
    "from sklearn.metrics import accuracy_score\n",
    "y_preds = cos_model.predict(X)\n",
    "print(\"Accuracy using Cosine-K-means: \", accuracy_score(Y, y_preds))"
   ]
  },
  {
   "cell_type": "code",
   "execution_count": 27,
   "metadata": {},
   "outputs": [
    {
     "name": "stdout",
     "output_type": "stream",
     "text": [
      "SSE 28383889095.75 for iteration 0.. \n",
      "Cluster labels:  [5 4 0 2 7 0 3 9 1 6]\n",
      "SSE 25549755909.41 for iteration 10.. \n",
      "Cluster labels:  [8 4 0 2 1 5 3 7 1 6]\n",
      "SSE 25492983956.44 for iteration 20.. \n",
      "Cluster labels:  [8 4 0 2 1 5 3 7 1 6]\n",
      "SSE 25491483767.34 for iteration 23.. \n",
      "Breaking.. SSE increased..\n",
      "Accuracy using Jarcard-K-means:  0.6053\n"
     ]
    }
   ],
   "source": [
    "jac_model = K_Means(k=k_labels, dist=\"JAC\", verbose=True)\n",
    "jac_model.fit(X, Y)\n",
    "\n",
    "from sklearn.metrics import accuracy_score\n",
    "y_preds = jac_model.predict(X)\n",
    "print(\"Accuracy using Jarcard-K-means: \", accuracy_score(Y, y_preds))"
   ]
  },
  {
   "cell_type": "markdown",
   "metadata": {},
   "source": [
    "**3. Maximum preset value of 100 iterations is complete**"
   ]
  },
  {
   "cell_type": "code",
   "execution_count": 28,
   "metadata": {},
   "outputs": [],
   "source": [
    "from collections import Counter\n",
    "\n",
    "class K_Means():\n",
    "    \n",
    "    def __init__(self, k=3, dist=\"EUC\", max_iter=150, centroids=None, verbose=False, tol=0.001):\n",
    "        self.k = k\n",
    "        self.max_iter = max_iter\n",
    "        self.cluster_ids = np.arange(k, dtype=\"int\")\n",
    "        self.cluster_labels = np.zeros(self.k, dtype=\"int\")\n",
    "        self.centroids = centroids\n",
    "        self.sse = 0\n",
    "        self.verbose = verbose\n",
    "        self.tol = tol\n",
    "        \n",
    "        # select appropriate distance metrics\n",
    "        if dist in [\"EUC\", \"COS\", \"JAC\", \"MAN\"]:\n",
    "            if dist == \"EUC\":\n",
    "                self.dist = self._euclidean_distance\n",
    "            elif dist == \"COS\":\n",
    "                self.dist = self._cosine_distance\n",
    "            elif dist == \"MAN\":\n",
    "                self.dist = self._manhattan_distance\n",
    "            else:\n",
    "                self.dist = self._jaccard_distance\n",
    "        else:\n",
    "            raise ValueError(\"Invalid value for distance metrics...\")\n",
    "    \n",
    "    \n",
    "    def fit(self, X, Y=None):    \n",
    "        self.X = X\n",
    "        self.Y = Y\n",
    "        self.rows, self.columns = X.shape\n",
    "        np.random.seed(24)\n",
    "        \n",
    "        # Step 1: initialization\n",
    "        # randomly selecting k rows as k centroid points\n",
    "        # only if initial centeroids are not provided\n",
    "        if type(self.centroids)==type(None):\n",
    "            self.centroids = self.X[np.random.choice(self.rows, self.k, replace=False)]\n",
    "        self.clusters = np.zeros(self.rows, dtype=\"int\")\n",
    "        \n",
    "        # calculating initial sse\n",
    "        sse = 0\n",
    "        for cluster_id in self.cluster_ids:\n",
    "            cluster_point_indexes = np.where(self.clusters == cluster_id)\n",
    "            sse += np.sum((self.X[cluster_point_indexes] - self.centroids[cluster_id])**2)\n",
    "        self.sse = sse\n",
    "        \n",
    "        # Step 3: Stop Criteria\n",
    "        # 1. when maximum preset value of number of iterations is complete.\n",
    "        # 2. when centroids do not change      \n",
    "        # 3. when sse increases in next iteration\n",
    "        for iteration in range(0, self.max_iter+1):\n",
    "            # Step 2: Repeat          \n",
    "            # 1. assign datpoints to k clusters based on the distance between \n",
    "            # the centeroids and the points\n",
    "            # traverse all rows in the dataset\n",
    "            for row_id in range(self.rows):\n",
    "                distances = [self.dist(X[row_id], self.centroids[cluster_id]) for cluster_id in self.cluster_ids]\n",
    "                min_dist_cluster_id = distances.index(min(distances))\n",
    "                if self.clusters[row_id]!=min_dist_cluster_id:\n",
    "                    self.clusters[row_id] = min_dist_cluster_id\n",
    "            #print(\"centriods:\", self.centroids)\n",
    "            \n",
    "            prev_centroids = np.copy(self.centroids)\n",
    "            # 2. compute the new centroids points\n",
    "            # average of all points in the cluster\n",
    "            for cluster_id in self.cluster_ids:\n",
    "                cluster_point_indexes = np.where(self.clusters == cluster_id)\n",
    "                if len(cluster_point_indexes[0])!=0:\n",
    "                    self.centroids[cluster_id] = np.average(self.X[cluster_point_indexes], axis=0)\n",
    "                \n",
    "                # compute cluster labels only if Y(original labels) are given\n",
    "                if type(self.Y)!=type(None):\n",
    "                    #print(\"cluster_point_indexes\", cluster_point_indexes)\n",
    "                    #print(cluster_point_indexes[0])\n",
    "                    # only if there are actual elements in the cluster\n",
    "                    if len(cluster_point_indexes[0])!=0:\n",
    "                        label_counts = Counter(self.Y[cluster_point_indexes])\n",
    "                        #print(label_counts)\n",
    "                        self.cluster_labels[cluster_id] = int(label_counts.most_common(1)[0][0])\n",
    "                    else:\n",
    "                        self.cluster_labels[cluster_id] = cluster_id\n",
    "                \n",
    "                # else assign cluster_ids as labels\n",
    "                else:\n",
    "                    self.cluster_labels[cluster_id] = self.cluster_ids[cluster_id]\n",
    "            #print(\"centriods:\", self.centroids)\n",
    "\n",
    "            # check for stopping condition\n",
    "            # 2. when centroids do not change      \n",
    "            change_in_centroid_postion = False\n",
    "            for c in range(self.k):\n",
    "                #print(self.dist(prev_centroids[c], self.centroids[c]))\n",
    "                if self.dist(prev_centroids[c], self.centroids[c]) > self.tol:\n",
    "                    change_in_centroid_postion = True\n",
    "                    \n",
    "            # check for stopping condition\n",
    "            # 3. when sse increases in next iteration\n",
    "            sse = 0\n",
    "            for cluster_id in self.cluster_ids:\n",
    "                cluster_point_indexes = np.where(self.clusters == cluster_id)\n",
    "                sse += np.sum((self.X[cluster_point_indexes] - self.centroids[cluster_id])**2)\n",
    "                \n",
    "            if self.verbose and iteration%20==0:\n",
    "                print(\"SSE {:.2f} for iteration {}.. \".format(sse, iteration))\n",
    "                print(\"Cluster labels: \", self.cluster_labels)\n",
    "                #print(\"Centeriods:\", self.centroids)\n",
    "            \n",
    "            # 2 and 3 breaking conditions\n",
    "#             if not change_in_centroid_postion:\n",
    "#                 print(\"SSE {:.2f} for iteration {}.. \".format(sse, iteration))\n",
    "#                 print(\"Breaking.. Centroids do no change..\")\n",
    "#                 break\n",
    "                \n",
    "#             if self.sse <= sse:\n",
    "#                 print(\"SSE {:.2f} for iteration {}.. \".format(sse, iteration+1))\n",
    "#                 print(\"Breaking.. SSE increased..\")\n",
    "#                 break\n",
    "                \n",
    "            self.sse = sse\n",
    "            iteration += 1\n",
    "                        \n",
    "            \n",
    "    def predict(self, X_test):\n",
    "        # create a placeholder to store predictions\n",
    "        y_preds = np.zeros((X_test.shape[0], 1)) \n",
    "        # for every test example\n",
    "        for index in range(X_test.shape[0]):\n",
    "            # compute distances from each cluster centriod\n",
    "            distances = [self.dist(X_test[index], self.centroids[cluster_id]) for cluster_id in self.cluster_ids]\n",
    "            # index of minimum distance cluster as per algorithm\n",
    "            y_preds[index] = distances.index(min(distances))\n",
    "            # actual label of the cluster\n",
    "            y_preds[index] = self.cluster_labels[int(y_preds[index])]            \n",
    "        return y_preds\n",
    "    \n",
    "    \n",
    "    def _manhattan_distance(self, x, y):\n",
    "        return np.sum(np.abs(x - y))\n",
    "    \n",
    "    \n",
    "    def _euclidean_distance(self, x, y):\n",
    "        return np.sum(np.square(x-y))\n",
    "    \n",
    "    \n",
    "    def _cosine_distance(self, x, y):\n",
    "        return 1 - np.dot(x,y)/(np.linalg.norm(x)*np.linalg.norm(y))\n",
    "    \n",
    "    \n",
    "    def _jaccard_distance(self, x, y):\n",
    "        values = np.array([[x], [y]])\n",
    "        return 1 - np.sum(values.min(axis=0))/np.sum(values.max(axis=0))\n",
    "  "
   ]
  },
  {
   "cell_type": "code",
   "execution_count": 29,
   "metadata": {},
   "outputs": [
    {
     "name": "stdout",
     "output_type": "stream",
     "text": [
      "SSE 28113342462.79 for iteration 0.. \n",
      "Cluster labels:  [3 9 0 2 7 0 3 4 1 6]\n",
      "SSE 25336469480.16 for iteration 20.. \n",
      "Cluster labels:  [8 4 0 2 1 5 3 7 1 6]\n",
      "SSE 25323592000.27 for iteration 40.. \n",
      "Cluster labels:  [8 4 0 2 1 5 3 7 1 6]\n",
      "SSE 25323592000.27 for iteration 60.. \n",
      "Cluster labels:  [8 4 0 2 1 5 3 7 1 6]\n",
      "SSE 25323592000.27 for iteration 80.. \n",
      "Cluster labels:  [8 4 0 2 1 5 3 7 1 6]\n",
      "SSE 25323592000.27 for iteration 100.. \n",
      "Cluster labels:  [8 4 0 2 1 5 3 7 1 6]\n",
      "Accuracy using Euclidean-K-means:  0.6018\n"
     ]
    }
   ],
   "source": [
    "euc_model = K_Means(k=k_labels, max_iter=100, dist=\"EUC\", verbose=True)\n",
    "euc_model.fit(X, Y)\n",
    "\n",
    "from sklearn.metrics import accuracy_score\n",
    "y_preds = euc_model.predict(X)\n",
    "print(\"Accuracy using Euclidean-K-means: \", accuracy_score(Y, y_preds))"
   ]
  },
  {
   "cell_type": "code",
   "execution_count": 30,
   "metadata": {},
   "outputs": [
    {
     "name": "stdout",
     "output_type": "stream",
     "text": [
      "SSE 28390838327.24 for iteration 0.. \n",
      "Cluster labels:  [5 4 0 2 7 0 3 9 1 6]\n",
      "SSE 25593683225.11 for iteration 20.. \n",
      "Cluster labels:  [8 4 0 2 7 5 3 9 1 6]\n",
      "SSE 25570659997.08 for iteration 40.. \n",
      "Cluster labels:  [8 4 0 2 7 5 3 9 1 6]\n",
      "SSE 25570345300.49 for iteration 60.. \n",
      "Cluster labels:  [8 4 0 2 7 5 3 9 1 6]\n",
      "SSE 25570345300.49 for iteration 80.. \n",
      "Cluster labels:  [8 4 0 2 7 5 3 9 1 6]\n",
      "SSE 25570345300.49 for iteration 100.. \n",
      "Cluster labels:  [8 4 0 2 7 5 3 9 1 6]\n",
      "Accuracy using Cosine-K-means:  0.6104\n"
     ]
    }
   ],
   "source": [
    "cos_model = K_Means(k=k_labels, max_iter=100, dist=\"COS\", verbose=True)\n",
    "cos_model.fit(X, Y)\n",
    "\n",
    "from sklearn.metrics import accuracy_score\n",
    "y_preds = cos_model.predict(X)\n",
    "print(\"Accuracy using Cosine-K-means: \", accuracy_score(Y, y_preds))"
   ]
  },
  {
   "cell_type": "code",
   "execution_count": 31,
   "metadata": {},
   "outputs": [
    {
     "name": "stdout",
     "output_type": "stream",
     "text": [
      "SSE 28383889095.75 for iteration 0.. \n",
      "Cluster labels:  [5 4 0 2 7 0 3 9 1 6]\n",
      "SSE 25492983956.44 for iteration 20.. \n",
      "Cluster labels:  [8 4 0 2 1 5 3 7 1 6]\n",
      "SSE 25490712953.25 for iteration 40.. \n",
      "Cluster labels:  [8 4 0 2 1 5 3 7 1 6]\n",
      "SSE 25490712953.25 for iteration 60.. \n",
      "Cluster labels:  [8 4 0 2 1 5 3 7 1 6]\n",
      "SSE 25490712953.25 for iteration 80.. \n",
      "Cluster labels:  [8 4 0 2 1 5 3 7 1 6]\n",
      "SSE 25490712953.25 for iteration 100.. \n",
      "Cluster labels:  [8 4 0 2 1 5 3 7 1 6]\n",
      "Accuracy using Jarcard-K-means:  0.607\n"
     ]
    }
   ],
   "source": [
    "jac_model = K_Means(k=k_labels, max_iter=100, dist=\"JAC\", verbose=True)\n",
    "jac_model.fit(X, Y)\n",
    "\n",
    "from sklearn.metrics import accuracy_score\n",
    "y_preds = jac_model.predict(X)\n",
    "print(\"Accuracy using Jarcard-K-means: \", accuracy_score(Y, y_preds))"
   ]
  },
  {
   "cell_type": "code",
   "execution_count": null,
   "metadata": {},
   "outputs": [],
   "source": []
  },
  {
   "cell_type": "code",
   "execution_count": null,
   "metadata": {},
   "outputs": [],
   "source": []
  },
  {
   "cell_type": "code",
   "execution_count": null,
   "metadata": {},
   "outputs": [],
   "source": []
  },
  {
   "cell_type": "code",
   "execution_count": null,
   "metadata": {},
   "outputs": [],
   "source": []
  },
  {
   "cell_type": "code",
   "execution_count": null,
   "metadata": {},
   "outputs": [],
   "source": []
  }
 ],
 "metadata": {
  "kernelspec": {
   "display_name": "Python 3",
   "language": "python",
   "name": "python3"
  },
  "language_info": {
   "codemirror_mode": {
    "name": "ipython",
    "version": 3
   },
   "file_extension": ".py",
   "mimetype": "text/x-python",
   "name": "python",
   "nbconvert_exporter": "python",
   "pygments_lexer": "ipython3",
   "version": "3.7.7"
  }
 },
 "nbformat": 4,
 "nbformat_minor": 4
}
