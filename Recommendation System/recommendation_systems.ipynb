{
 "cells": [
  {
   "cell_type": "markdown",
   "metadata": {},
   "source": [
    "# Recommendation Systems\n",
    "1. Recommender systems are a hot topic. Recommendation systems can be formulated as a task of matrix completion in machine learning. Recommender systems aim to predict the rating that a user will give for an item (e.g., a restaurant, a movie, a product).\n",
    "\n",
    "2. Download the movie rating dataset from: https://www.kaggle.com/rounakbanik/themovies-dataset. These files contain metadata for all 45,000 movies listed in the Full MovieLens Dataset. The dataset consists of movies released on or before July 2017. Data points include cast, crew, plot keywords, budget, revenue, posters, release dates, languages, production companies, countries, TMDB vote counts and vote averages. This dataset also has files containing 26 million ratings from 270,000 users for all 45,000 movies. Ratings are on a scale of 1-5 and have been obtained from the official GroupLens website.\n",
    "\n",
    "3. Building a small recommender system with the matrix data: “ratings.csv”. You can use the recommender system library: Surprise (http://surpriselib.com), use other recommender system libraries, or implement from scratches.\n",
    "\n",
    "    1.  Read data from “ratings.csv” with line format: 'userID movieID rating timestamp'.\n",
    "    2. MAE and RMSE are two famous metrics for evaluating the performances of a recommender system. The definition of MAE can be found via: https://en.wikipedia.org/wiki/Mean_absolute_error. The definition of RMSE can be found via: https://en.wikipedia.org/wiki/Root-mean-square_deviation.\n",
    "    3. Compute the average MAE and RMSE of the Probabilistic Matrix Factorization (PMF), User based Collaborative Filtering, Item based Collaborative Filtering,under the 5-folds cross-validation\n",
    "    4. Compare the average (mean) performances of User-based collaborative filtering, item-based collaborative filtering, PMF with respect to RMSE and MAE. Which ML model is the best in the movie rating data?\n",
    "    5. Examine how the cosine, MSD (Mean Squared Difference), and Pearson similarities impact the performances of User based Collaborative Filtering and Item based Collaborative Filtering. Plot your results. Is the impact of the three metrics on User based Collaborative Filtering consistent with the impact of the three metrics on Item based Collaborative Filtering?\n",
    "    6. Examine how the number of neighbors impacts the performances of User based Collaborative Filtering and Item based Collaborative Filtering? Plot your results.\n",
    "    7. Identify the best number of neighbor (denoted by K) for User/Item based collaborative filtering in terms of RMSE. Is the best K of User based collaborative filtering the same with the best K of Item based collaborative filtering?"
   ]
  },
  {
   "cell_type": "code",
   "execution_count": 1,
   "metadata": {},
   "outputs": [],
   "source": [
    "import numpy as np\n",
    "import pandas as pd\n",
    "import matplotlib.pyplot as plt"
   ]
  },
  {
   "cell_type": "code",
   "execution_count": 2,
   "metadata": {},
   "outputs": [],
   "source": [
    "from collections import defaultdict\n",
    "from surprise import KNNBasic, SVD\n",
    "from surprise import Dataset, Reader\n",
    "from surprise.accuracy import mae, rmse\n",
    "from surprise.model_selection import KFold"
   ]
  },
  {
   "cell_type": "code",
   "execution_count": 3,
   "metadata": {},
   "outputs": [],
   "source": [
    "reader = Reader(line_format='user item rating timestamp', sep=',', skip_lines=1)\n",
    "ratings_data = Dataset.load_from_file(\"data/ratings_small.csv\", reader=reader)"
   ]
  },
  {
   "cell_type": "code",
   "execution_count": 4,
   "metadata": {},
   "outputs": [
    {
     "data": {
      "text/plain": [
       "<surprise.dataset.DatasetAutoFolds at 0x262146e4fc8>"
      ]
     },
     "execution_count": 4,
     "metadata": {},
     "output_type": "execute_result"
    }
   ],
   "source": [
    "ratings_data"
   ]
  },
  {
   "cell_type": "markdown",
   "metadata": {},
   "source": [
    "### Model training with K-fold cross validation accuracy"
   ]
  },
  {
   "cell_type": "code",
   "execution_count": 5,
   "metadata": {},
   "outputs": [],
   "source": [
    "def cross_validate_model(model, n_splits=5):\n",
    "    # define a cross-validation iterator\n",
    "    kf = KFold(n_splits, random_state=123)\n",
    "\n",
    "    indexes = [\"Split \"+str(x+1) for x in range(n_splits)] + [\"AVG\"]\n",
    "    accuracy = pd.DataFrame(index=indexes, columns=[\"RMSE\", \"MAE\"])\n",
    "    index = 1\n",
    "    for trainset, testset in kf.split(ratings_data):\n",
    "\n",
    "        # train and test algorithm.\n",
    "        model.fit(trainset)\n",
    "        predictions = model.test(testset)\n",
    "\n",
    "        # Compute and print Root Mean Squared Error\n",
    "        accuracy[\"RMSE\"][\"Split \"+str(index)] = rmse(predictions, verbose=False)\n",
    "        accuracy[\"MAE\"][\"Split \"+str(index)] = mae(predictions, verbose=False)\n",
    "        index += 1\n",
    "\n",
    "    accuracy[\"RMSE\"][\"AVG\"] = accuracy[\"RMSE\"][:-1].sum() / n_splits\n",
    "    accuracy[\"MAE\"][\"AVG\"] = accuracy[\"MAE\"][:-1].sum() / n_splits\n",
    "    return accuracy"
   ]
  },
  {
   "cell_type": "markdown",
   "metadata": {},
   "source": [
    "### Average MAE and RMSE of the Probabilistic Matrix Factorization (PMF), User based Collaborative Filtering, Item based Collaborative Filtering, under the 5-folds cross-validation"
   ]
  },
  {
   "cell_type": "code",
   "execution_count": 6,
   "metadata": {},
   "outputs": [
    {
     "name": "stdout",
     "output_type": "stream",
     "text": [
      "\n",
      "Building User CF ...\n",
      "Done with User CF ...\n",
      "\n",
      "Building Item CF ...\n",
      "Done with Item CF ...\n",
      "\n",
      "Building PMF ...\n",
      "Done with PMF ...\n"
     ]
    }
   ],
   "source": [
    "models = {\"User CF\": KNNBasic(sim_options={'user_based':True}, verbose=False),\n",
    "          \"Item CF\": KNNBasic(sim_options={'user_based':False}, verbose=False),\n",
    "          \"PMF\": SVD(biased=False)}\n",
    "\n",
    "model_results = {}\n",
    "for model_name, model in models.items():\n",
    "    print(\"\\nBuilding\", model_name , \"...\")\n",
    "    model_results[model_name] = cross_validate_model(model, n_splits=5)\n",
    "    print(\"Done with\", model_name , \"...\")\n",
    "                               "
   ]
  },
  {
   "cell_type": "code",
   "execution_count": 7,
   "metadata": {},
   "outputs": [
    {
     "name": "stdout",
     "output_type": "stream",
     "text": [
      "\n",
      "\n",
      "Cross validation accuracies of User CF\n"
     ]
    },
    {
     "data": {
      "text/html": [
       "<div>\n",
       "<style scoped>\n",
       "    .dataframe tbody tr th:only-of-type {\n",
       "        vertical-align: middle;\n",
       "    }\n",
       "\n",
       "    .dataframe tbody tr th {\n",
       "        vertical-align: top;\n",
       "    }\n",
       "\n",
       "    .dataframe thead th {\n",
       "        text-align: right;\n",
       "    }\n",
       "</style>\n",
       "<table border=\"1\" class=\"dataframe\">\n",
       "  <thead>\n",
       "    <tr style=\"text-align: right;\">\n",
       "      <th></th>\n",
       "      <th>RMSE</th>\n",
       "      <th>MAE</th>\n",
       "    </tr>\n",
       "  </thead>\n",
       "  <tbody>\n",
       "    <tr>\n",
       "      <th>Split 1</th>\n",
       "      <td>0.974454</td>\n",
       "      <td>0.749854</td>\n",
       "    </tr>\n",
       "    <tr>\n",
       "      <th>Split 2</th>\n",
       "      <td>0.967098</td>\n",
       "      <td>0.744739</td>\n",
       "    </tr>\n",
       "    <tr>\n",
       "      <th>Split 3</th>\n",
       "      <td>0.963994</td>\n",
       "      <td>0.740303</td>\n",
       "    </tr>\n",
       "    <tr>\n",
       "      <th>Split 4</th>\n",
       "      <td>0.972115</td>\n",
       "      <td>0.747168</td>\n",
       "    </tr>\n",
       "    <tr>\n",
       "      <th>Split 5</th>\n",
       "      <td>0.962761</td>\n",
       "      <td>0.740432</td>\n",
       "    </tr>\n",
       "    <tr>\n",
       "      <th>AVG</th>\n",
       "      <td>0.968085</td>\n",
       "      <td>0.744499</td>\n",
       "    </tr>\n",
       "  </tbody>\n",
       "</table>\n",
       "</div>"
      ],
      "text/plain": [
       "             RMSE       MAE\n",
       "Split 1  0.974454  0.749854\n",
       "Split 2  0.967098  0.744739\n",
       "Split 3  0.963994  0.740303\n",
       "Split 4  0.972115  0.747168\n",
       "Split 5  0.962761  0.740432\n",
       "AVG      0.968085  0.744499"
      ]
     },
     "metadata": {},
     "output_type": "display_data"
    },
    {
     "name": "stdout",
     "output_type": "stream",
     "text": [
      "\n",
      "\n",
      "Cross validation accuracies of Item CF\n"
     ]
    },
    {
     "data": {
      "text/html": [
       "<div>\n",
       "<style scoped>\n",
       "    .dataframe tbody tr th:only-of-type {\n",
       "        vertical-align: middle;\n",
       "    }\n",
       "\n",
       "    .dataframe tbody tr th {\n",
       "        vertical-align: top;\n",
       "    }\n",
       "\n",
       "    .dataframe thead th {\n",
       "        text-align: right;\n",
       "    }\n",
       "</style>\n",
       "<table border=\"1\" class=\"dataframe\">\n",
       "  <thead>\n",
       "    <tr style=\"text-align: right;\">\n",
       "      <th></th>\n",
       "      <th>RMSE</th>\n",
       "      <th>MAE</th>\n",
       "    </tr>\n",
       "  </thead>\n",
       "  <tbody>\n",
       "    <tr>\n",
       "      <th>Split 1</th>\n",
       "      <td>0.945641</td>\n",
       "      <td>0.729177</td>\n",
       "    </tr>\n",
       "    <tr>\n",
       "      <th>Split 2</th>\n",
       "      <td>0.928846</td>\n",
       "      <td>0.716343</td>\n",
       "    </tr>\n",
       "    <tr>\n",
       "      <th>Split 3</th>\n",
       "      <td>0.930052</td>\n",
       "      <td>0.716256</td>\n",
       "    </tr>\n",
       "    <tr>\n",
       "      <th>Split 4</th>\n",
       "      <td>0.938775</td>\n",
       "      <td>0.72476</td>\n",
       "    </tr>\n",
       "    <tr>\n",
       "      <th>Split 5</th>\n",
       "      <td>0.933114</td>\n",
       "      <td>0.72184</td>\n",
       "    </tr>\n",
       "    <tr>\n",
       "      <th>AVG</th>\n",
       "      <td>0.935286</td>\n",
       "      <td>0.721675</td>\n",
       "    </tr>\n",
       "  </tbody>\n",
       "</table>\n",
       "</div>"
      ],
      "text/plain": [
       "             RMSE       MAE\n",
       "Split 1  0.945641  0.729177\n",
       "Split 2  0.928846  0.716343\n",
       "Split 3  0.930052  0.716256\n",
       "Split 4  0.938775   0.72476\n",
       "Split 5  0.933114   0.72184\n",
       "AVG      0.935286  0.721675"
      ]
     },
     "metadata": {},
     "output_type": "display_data"
    },
    {
     "name": "stdout",
     "output_type": "stream",
     "text": [
      "\n",
      "\n",
      "Cross validation accuracies of PMF\n"
     ]
    },
    {
     "data": {
      "text/html": [
       "<div>\n",
       "<style scoped>\n",
       "    .dataframe tbody tr th:only-of-type {\n",
       "        vertical-align: middle;\n",
       "    }\n",
       "\n",
       "    .dataframe tbody tr th {\n",
       "        vertical-align: top;\n",
       "    }\n",
       "\n",
       "    .dataframe thead th {\n",
       "        text-align: right;\n",
       "    }\n",
       "</style>\n",
       "<table border=\"1\" class=\"dataframe\">\n",
       "  <thead>\n",
       "    <tr style=\"text-align: right;\">\n",
       "      <th></th>\n",
       "      <th>RMSE</th>\n",
       "      <th>MAE</th>\n",
       "    </tr>\n",
       "  </thead>\n",
       "  <tbody>\n",
       "    <tr>\n",
       "      <th>Split 1</th>\n",
       "      <td>1.0224</td>\n",
       "      <td>0.789668</td>\n",
       "    </tr>\n",
       "    <tr>\n",
       "      <th>Split 2</th>\n",
       "      <td>0.999367</td>\n",
       "      <td>0.773703</td>\n",
       "    </tr>\n",
       "    <tr>\n",
       "      <th>Split 3</th>\n",
       "      <td>1.00591</td>\n",
       "      <td>0.772121</td>\n",
       "    </tr>\n",
       "    <tr>\n",
       "      <th>Split 4</th>\n",
       "      <td>1.01183</td>\n",
       "      <td>0.780945</td>\n",
       "    </tr>\n",
       "    <tr>\n",
       "      <th>Split 5</th>\n",
       "      <td>1.0034</td>\n",
       "      <td>0.77514</td>\n",
       "    </tr>\n",
       "    <tr>\n",
       "      <th>AVG</th>\n",
       "      <td>1.00858</td>\n",
       "      <td>0.778315</td>\n",
       "    </tr>\n",
       "  </tbody>\n",
       "</table>\n",
       "</div>"
      ],
      "text/plain": [
       "             RMSE       MAE\n",
       "Split 1    1.0224  0.789668\n",
       "Split 2  0.999367  0.773703\n",
       "Split 3   1.00591  0.772121\n",
       "Split 4   1.01183  0.780945\n",
       "Split 5    1.0034   0.77514\n",
       "AVG       1.00858  0.778315"
      ]
     },
     "metadata": {},
     "output_type": "display_data"
    }
   ],
   "source": [
    "for model, result in model_results.items():\n",
    "    print(\"\\n\\nCross validation accuracies of\", model)\n",
    "    display(result)"
   ]
  },
  {
   "cell_type": "markdown",
   "metadata": {},
   "source": [
    "### Impact of Cosine, MSD (Mean Squared Difference), and Pearson similarities on the performance of User based Collaborative Filtering"
   ]
  },
  {
   "cell_type": "code",
   "execution_count": 8,
   "metadata": {},
   "outputs": [
    {
     "name": "stdout",
     "output_type": "stream",
     "text": [
      "\n",
      "Building Cosine User CF ...\n",
      "Done with Cosine User CF ...\n",
      "\n",
      "Building MSD User CF ...\n",
      "Done with MSD User CF ...\n",
      "\n",
      "Building Pearson User CF ...\n",
      "Done with Pearson User CF ...\n",
      "\n",
      "\n",
      "Cross validation accuracies of rmse\n"
     ]
    },
    {
     "data": {
      "text/plain": [
       "[0.9933524105069342, 0.9680846108265051, 0.9989862811943062]"
      ]
     },
     "metadata": {},
     "output_type": "display_data"
    },
    {
     "name": "stdout",
     "output_type": "stream",
     "text": [
      "\n",
      "\n",
      "Cross validation accuracies of mae\n"
     ]
    },
    {
     "data": {
      "text/plain": [
       "[0.7677852782069455, 0.7444992753960655, 0.7729758782507343]"
      ]
     },
     "metadata": {},
     "output_type": "display_data"
    }
   ],
   "source": [
    "models = {\"Cosine User CF\": KNNBasic(sim_options={'name': 'cosine', 'user_based':True}, verbose=False),\n",
    "          \"MSD User CF\": KNNBasic(sim_options={'name': 'MSD', 'user_based':True}, verbose=False),\n",
    "          \"Pearson User CF\": KNNBasic(sim_options={'name': 'pearson', 'user_based':True}, verbose=False),\n",
    "          }\n",
    "\n",
    "model_results_ucf = defaultdict(list)\n",
    "for model_name, model in models.items():\n",
    "    print(\"\\nBuilding\", model_name , \"...\")\n",
    "    model_results_ucf[\"rmse\"].append(cross_validate_model(model, n_splits=5).loc[\"AVG\"][\"RMSE\"])\n",
    "    model_results_ucf[\"mae\"].append(cross_validate_model(model, n_splits=5).loc[\"AVG\"][\"MAE\"])\n",
    "    print(\"Done with\", model_name , \"...\")\n",
    "    \n",
    "for model, result in model_results_ucf.items():\n",
    "    print(\"\\n\\nCross validation accuracies of\", model)\n",
    "    display(result)"
   ]
  },
  {
   "cell_type": "markdown",
   "metadata": {},
   "source": [
    "### Impact of Cosine, MSD (Mean Squared Difference), and Pearson similarities on the performance of User based Collaborative Filtering"
   ]
  },
  {
   "cell_type": "code",
   "execution_count": 9,
   "metadata": {},
   "outputs": [
    {
     "name": "stdout",
     "output_type": "stream",
     "text": [
      "\n",
      "Building Cosine Item CF ...\n",
      "Done with Cosine Item CF ...\n",
      "\n",
      "Building MSD Item CF ...\n",
      "Done with MSD Item CF ...\n",
      "\n",
      "Building Pearson Item CF ...\n",
      "Done with Pearson Item CF ...\n",
      "\n",
      "\n",
      "Cross validation accuracies of rmse\n"
     ]
    },
    {
     "data": {
      "text/plain": [
       "[0.9970314053347783, 0.9352855173831488, 0.98888952824562]"
      ]
     },
     "metadata": {},
     "output_type": "display_data"
    },
    {
     "name": "stdout",
     "output_type": "stream",
     "text": [
      "\n",
      "\n",
      "Cross validation accuracies of mae\n"
     ]
    },
    {
     "data": {
      "text/plain": [
       "[0.7755699441937141, 0.721675185724324, 0.767582658941169]"
      ]
     },
     "metadata": {},
     "output_type": "display_data"
    }
   ],
   "source": [
    "models = {\"Cosine Item CF\": KNNBasic(sim_options={'name': 'cosine', 'user_based':False}, verbose=False),\n",
    "          \"MSD Item CF\": KNNBasic(sim_options={'name': 'MSD', 'user_based':False}, verbose=False),\n",
    "          \"Pearson Item CF\": KNNBasic(sim_options={'name': 'pearson', 'user_based':False}, verbose=False),\n",
    "          }\n",
    "\n",
    "model_results_icf = defaultdict(list)\n",
    "for model_name, model in models.items():\n",
    "    print(\"\\nBuilding\", model_name , \"...\")\n",
    "    results = cross_validate_model(model, n_splits=5)\n",
    "    model_results_icf[\"rmse\"].append(results.loc[\"AVG\"][\"RMSE\"])\n",
    "    model_results_icf[\"mae\"].append(results.loc[\"AVG\"][\"MAE\"])\n",
    "    print(\"Done with\", model_name , \"...\")\n",
    "    \n",
    "for model, result in model_results_icf.items():\n",
    "    print(\"\\n\\nCross validation accuracies of\", model)\n",
    "    display(result)"
   ]
  },
  {
   "cell_type": "code",
   "execution_count": 10,
   "metadata": {},
   "outputs": [
    {
     "data": {
      "image/png": "[encoded data removed]",
      "text/plain": [
       "<Figure size 432x288 with 1 Axes>"
      ]
     },
     "metadata": {
      "needs_background": "light"
     },
     "output_type": "display_data"
    }
   ],
   "source": [
    "x_labels = [\"Cosine \", \"MSD\", \"Pearson\"]\n",
    "plt.title(\"RMSE VS User CF\")\n",
    "plt.plot(x_labels, model_results_ucf[\"rmse\"])\n",
    "plt.plot(x_labels, model_results_icf[\"rmse\"])\n",
    "plt.legend([\"User CF\", \"Item CF\"]);"
   ]
  },
  {
   "cell_type": "code",
   "execution_count": 11,
   "metadata": {},
   "outputs": [
    {
     "data": {
      "image/png": "[encoded data removed]",
      "text/plain": [
       "<Figure size 432x288 with 1 Axes>"
      ]
     },
     "metadata": {
      "needs_background": "light"
     },
     "output_type": "display_data"
    }
   ],
   "source": [
    "x_labels = [\"Cosine \", \"MSD\", \"Pearson\"]\n",
    "plt.title(\"MAE VS Item CF\")\n",
    "plt.plot(x_labels, model_results_ucf[\"mae\"])\n",
    "plt.plot(x_labels, model_results_icf[\"mae\"])\n",
    "plt.legend([\"User CF\", \"Item CF\"]);"
   ]
  },
  {
   "cell_type": "markdown",
   "metadata": {},
   "source": [
    "### Identify the best number of neighbor (denoted by K) for User/Item based collaborative filtering in terms of RMSE."
   ]
  },
  {
   "cell_type": "code",
   "execution_count": 12,
   "metadata": {},
   "outputs": [
    {
     "name": "stdout",
     "output_type": "stream",
     "text": [
      "\n",
      "Building User CF with K: 10 ...\n",
      "Done with User CF with K: 10 ...\n",
      "\n",
      "Building User CF with K: 15 ...\n",
      "Done with User CF with K: 15 ...\n",
      "\n",
      "Building User CF with K: 20 ...\n",
      "Done with User CF with K: 20 ...\n",
      "\n",
      "Building User CF with K: 25 ...\n",
      "Done with User CF with K: 25 ...\n",
      "\n",
      "Building User CF with K: 30 ...\n",
      "Done with User CF with K: 30 ...\n",
      "\n",
      "Building User CF with K: 35 ...\n",
      "Done with User CF with K: 35 ...\n",
      "\n",
      "Building User CF with K: 40 ...\n",
      "Done with User CF with K: 40 ...\n",
      "\n",
      "Building User CF with K: 45 ...\n",
      "Done with User CF with K: 45 ...\n",
      "\n",
      "Building User CF with K: 50 ...\n",
      "Done with User CF with K: 50 ...\n",
      "\n",
      "Building User CF with K: 55 ...\n",
      "Done with User CF with K: 55 ...\n",
      "\n",
      "Building User CF with K: 60 ...\n",
      "Done with User CF with K: 60 ...\n",
      "\n",
      "Building User CF with K: 65 ...\n",
      "Done with User CF with K: 65 ...\n",
      "\n",
      "Building User CF with K: 70 ...\n",
      "Done with User CF with K: 70 ...\n",
      "\n",
      "Building User CF with K: 75 ...\n",
      "Done with User CF with K: 75 ...\n",
      "\n",
      "Building User CF with K: 80 ...\n",
      "Done with User CF with K: 80 ...\n",
      "\n",
      "Building User CF with K: 85 ...\n",
      "Done with User CF with K: 85 ...\n",
      "\n",
      "Building User CF with K: 90 ...\n",
      "Done with User CF with K: 90 ...\n",
      "\n",
      "Building User CF with K: 95 ...\n",
      "Done with User CF with K: 95 ...\n",
      "\n",
      "Building User CF with K: 100 ...\n",
      "Done with User CF with K: 100 ...\n"
     ]
    },
    {
     "data": {
      "image/png": "[encoded data removed]",
      "text/plain": [
       "<Figure size 432x288 with 1 Axes>"
      ]
     },
     "metadata": {
      "needs_background": "light"
     },
     "output_type": "display_data"
    }
   ],
   "source": [
    "\n",
    "k_values = list(range(10, 101, 5))\n",
    "model_results = []\n",
    "for k in k_values:\n",
    "    print(\"\\nBuilding User CF with K:\", k , \"...\")\n",
    "    user_cf = KNNBasic(k, sim_options={'user_based':True}, verbose=False)\n",
    "    model_results.append(cross_validate_model(user_cf, n_splits=5).loc[\"AVG\"][\"RMSE\"])\n",
    "    print(\"Done with User CF with K:\", k , \"...\")\n",
    "    \n",
    "plt.title(\"K VS RMSE (MSD similarity)\")\n",
    "plt.xticks(k_values)\n",
    "plt.plot(k_values, model_results);\n"
   ]
  },
  {
   "cell_type": "code",
   "execution_count": 13,
   "metadata": {},
   "outputs": [
    {
     "name": "stdout",
     "output_type": "stream",
     "text": [
      "Min K: 15\n"
     ]
    }
   ],
   "source": [
    "print(\"Min K:\", k_values[np.argmin(model_results)])"
   ]
  },
  {
   "cell_type": "code",
   "execution_count": 14,
   "metadata": {},
   "outputs": [
    {
     "name": "stdout",
     "output_type": "stream",
     "text": [
      "\n",
      "Building Item CF with K: 10 ...\n",
      "Done with Item CF with K: 10 ...\n",
      "\n",
      "Building Item CF with K: 15 ...\n",
      "Done with Item CF with K: 15 ...\n",
      "\n",
      "Building Item CF with K: 20 ...\n",
      "Done with Item CF with K: 20 ...\n",
      "\n",
      "Building Item CF with K: 25 ...\n",
      "Done with Item CF with K: 25 ...\n",
      "\n",
      "Building Item CF with K: 30 ...\n",
      "Done with Item CF with K: 30 ...\n",
      "\n",
      "Building Item CF with K: 35 ...\n",
      "Done with Item CF with K: 35 ...\n",
      "\n",
      "Building Item CF with K: 40 ...\n",
      "Done with Item CF with K: 40 ...\n",
      "\n",
      "Building Item CF with K: 45 ...\n",
      "Done with Item CF with K: 45 ...\n",
      "\n",
      "Building Item CF with K: 50 ...\n",
      "Done with Item CF with K: 50 ...\n",
      "\n",
      "Building Item CF with K: 55 ...\n",
      "Done with Item CF with K: 55 ...\n",
      "\n",
      "Building Item CF with K: 60 ...\n",
      "Done with Item CF with K: 60 ...\n",
      "\n",
      "Building Item CF with K: 65 ...\n",
      "Done with Item CF with K: 65 ...\n",
      "\n",
      "Building Item CF with K: 70 ...\n",
      "Done with Item CF with K: 70 ...\n",
      "\n",
      "Building Item CF with K: 75 ...\n",
      "Done with Item CF with K: 75 ...\n",
      "\n",
      "Building Item CF with K: 80 ...\n",
      "Done with Item CF with K: 80 ...\n",
      "\n",
      "Building Item CF with K: 85 ...\n",
      "Done with Item CF with K: 85 ...\n",
      "\n",
      "Building Item CF with K: 90 ...\n",
      "Done with Item CF with K: 90 ...\n",
      "\n",
      "Building Item CF with K: 95 ...\n",
      "Done with Item CF with K: 95 ...\n",
      "\n",
      "Building Item CF with K: 100 ...\n",
      "Done with Item CF with K: 100 ...\n"
     ]
    },
    {
     "data": {
      "image/png": "[encoded data removed]",
      "text/plain": [
       "<Figure size 432x288 with 1 Axes>"
      ]
     },
     "metadata": {
      "needs_background": "light"
     },
     "output_type": "display_data"
    }
   ],
   "source": [
    "\n",
    "k_values = list(range(10, 101, 5))\n",
    "model_results = []\n",
    "for k in k_values:\n",
    "    print(\"\\nBuilding Item CF with K:\", k , \"...\")\n",
    "    user_cf = KNNBasic(k, sim_options={'user_based':False}, verbose=False)\n",
    "    model_results.append(cross_validate_model(user_cf, n_splits=5).loc[\"AVG\"][\"RMSE\"])\n",
    "    print(\"Done with Item CF with K:\", k , \"...\")\n",
    "    \n",
    "plt.title(\"K VS RMSE (MSD similarity)\")\n",
    "plt.xticks(k_values)\n",
    "plt.plot(k_values, model_results);"
   ]
  },
  {
   "cell_type": "code",
   "execution_count": 15,
   "metadata": {},
   "outputs": [
    {
     "name": "stdout",
     "output_type": "stream",
     "text": [
      "Min K: 75\n"
     ]
    }
   ],
   "source": [
    "print(\"Min K:\", k_values[np.argmin(model_results)])"
   ]
  },
  {
   "cell_type": "code",
   "execution_count": null,
   "metadata": {},
   "outputs": [],
   "source": []
  }
 ],
 "metadata": {
  "kernelspec": {
   "display_name": "Python 3.7.7 64-bit",
   "language": "python",
   "name": "python37764biteb39573fd77b48b7a290138181f0aaa9"
  },
  "language_info": {
   "codemirror_mode": {
    "name": "ipython",
    "version": 3
   },
   "file_extension": ".py",
   "mimetype": "text/x-python",
   "name": "python",
   "nbconvert_exporter": "python",
   "pygments_lexer": "ipython3",
   "version": "3.7.7"
  }
 },
 "nbformat": 4,
 "nbformat_minor": 4
}
